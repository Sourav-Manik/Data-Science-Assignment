{
  "nbformat": 4,
  "nbformat_minor": 0,
  "metadata": {
    "colab": {
      "name": "Assignment_4.ipynb",
      "provenance": [],
      "collapsed_sections": []
    },
    "kernelspec": {
      "name": "python3",
      "display_name": "Python 3"
    },
    "language_info": {
      "name": "python"
    }
  },
  "cells": [
    {
      "cell_type": "markdown",
      "metadata": {
        "id": "8m9kCM-w3NYC"
      },
      "source": [
        "#Question 1 - Delivery_time -> Predict delivery time using sorting time \n",
        "\n",
        "---\n",
        "\n"
      ]
    },
    {
      "cell_type": "code",
      "metadata": {
        "id": "GNCG6vQe2qwZ"
      },
      "source": [
        "#load the libraries\n",
        "import pandas as pd\n",
        "import numpy as np\n",
        "import matplotlib.pyplot as plt\n",
        "import seaborn as sns"
      ],
      "execution_count": 2,
      "outputs": []
    },
    {
      "cell_type": "code",
      "metadata": {
        "id": "7b9n0n1321Ki"
      },
      "source": [
        "delivery_time = pd.read_csv(\"/content/delivery_time.csv\")"
      ],
      "execution_count": 3,
      "outputs": []
    },
    {
      "cell_type": "code",
      "metadata": {
        "colab": {
          "base_uri": "https://localhost:8080/",
          "height": 206
        },
        "id": "CZl8o3il3fPR",
        "outputId": "041a0e8a-f0a6-4e7b-f7e2-5db940b41a27"
      },
      "source": [
        "delivery_time.head()"
      ],
      "execution_count": 4,
      "outputs": [
        {
          "output_type": "execute_result",
          "data": {
            "text/html": [
              "<div>\n",
              "<style scoped>\n",
              "    .dataframe tbody tr th:only-of-type {\n",
              "        vertical-align: middle;\n",
              "    }\n",
              "\n",
              "    .dataframe tbody tr th {\n",
              "        vertical-align: top;\n",
              "    }\n",
              "\n",
              "    .dataframe thead th {\n",
              "        text-align: right;\n",
              "    }\n",
              "</style>\n",
              "<table border=\"1\" class=\"dataframe\">\n",
              "  <thead>\n",
              "    <tr style=\"text-align: right;\">\n",
              "      <th></th>\n",
              "      <th>Delivery Time</th>\n",
              "      <th>Sorting Time</th>\n",
              "    </tr>\n",
              "  </thead>\n",
              "  <tbody>\n",
              "    <tr>\n",
              "      <th>0</th>\n",
              "      <td>21.00</td>\n",
              "      <td>10</td>\n",
              "    </tr>\n",
              "    <tr>\n",
              "      <th>1</th>\n",
              "      <td>13.50</td>\n",
              "      <td>4</td>\n",
              "    </tr>\n",
              "    <tr>\n",
              "      <th>2</th>\n",
              "      <td>19.75</td>\n",
              "      <td>6</td>\n",
              "    </tr>\n",
              "    <tr>\n",
              "      <th>3</th>\n",
              "      <td>24.00</td>\n",
              "      <td>9</td>\n",
              "    </tr>\n",
              "    <tr>\n",
              "      <th>4</th>\n",
              "      <td>29.00</td>\n",
              "      <td>10</td>\n",
              "    </tr>\n",
              "  </tbody>\n",
              "</table>\n",
              "</div>"
            ],
            "text/plain": [
              "   Delivery Time  Sorting Time\n",
              "0          21.00            10\n",
              "1          13.50             4\n",
              "2          19.75             6\n",
              "3          24.00             9\n",
              "4          29.00            10"
            ]
          },
          "metadata": {},
          "execution_count": 4
        }
      ]
    },
    {
      "cell_type": "code",
      "metadata": {
        "id": "vv94I2Q_8Kk7"
      },
      "source": [
        "delivery_time = delivery_time.rename({'Delivery Time': 'Delivery_Time','Sorting Time':'Sorting_Time'}, axis=1)"
      ],
      "execution_count": 5,
      "outputs": []
    },
    {
      "cell_type": "code",
      "metadata": {
        "colab": {
          "base_uri": "https://localhost:8080/",
          "height": 206
        },
        "id": "NQsV9mm_8iW6",
        "outputId": "ab6d6f46-35a0-48a6-c394-28eecf11b2af"
      },
      "source": [
        "delivery_time.head()"
      ],
      "execution_count": 6,
      "outputs": [
        {
          "output_type": "execute_result",
          "data": {
            "text/html": [
              "<div>\n",
              "<style scoped>\n",
              "    .dataframe tbody tr th:only-of-type {\n",
              "        vertical-align: middle;\n",
              "    }\n",
              "\n",
              "    .dataframe tbody tr th {\n",
              "        vertical-align: top;\n",
              "    }\n",
              "\n",
              "    .dataframe thead th {\n",
              "        text-align: right;\n",
              "    }\n",
              "</style>\n",
              "<table border=\"1\" class=\"dataframe\">\n",
              "  <thead>\n",
              "    <tr style=\"text-align: right;\">\n",
              "      <th></th>\n",
              "      <th>Delivery_Time</th>\n",
              "      <th>Sorting_Time</th>\n",
              "    </tr>\n",
              "  </thead>\n",
              "  <tbody>\n",
              "    <tr>\n",
              "      <th>0</th>\n",
              "      <td>21.00</td>\n",
              "      <td>10</td>\n",
              "    </tr>\n",
              "    <tr>\n",
              "      <th>1</th>\n",
              "      <td>13.50</td>\n",
              "      <td>4</td>\n",
              "    </tr>\n",
              "    <tr>\n",
              "      <th>2</th>\n",
              "      <td>19.75</td>\n",
              "      <td>6</td>\n",
              "    </tr>\n",
              "    <tr>\n",
              "      <th>3</th>\n",
              "      <td>24.00</td>\n",
              "      <td>9</td>\n",
              "    </tr>\n",
              "    <tr>\n",
              "      <th>4</th>\n",
              "      <td>29.00</td>\n",
              "      <td>10</td>\n",
              "    </tr>\n",
              "  </tbody>\n",
              "</table>\n",
              "</div>"
            ],
            "text/plain": [
              "   Delivery_Time  Sorting_Time\n",
              "0          21.00            10\n",
              "1          13.50             4\n",
              "2          19.75             6\n",
              "3          24.00             9\n",
              "4          29.00            10"
            ]
          },
          "metadata": {},
          "execution_count": 6
        }
      ]
    },
    {
      "cell_type": "code",
      "metadata": {
        "colab": {
          "base_uri": "https://localhost:8080/"
        },
        "id": "XqSJOMNc3hvQ",
        "outputId": "33653ce8-6c2f-46e4-b0bc-49c9e2c027d2"
      },
      "source": [
        "type(delivery_time)"
      ],
      "execution_count": 7,
      "outputs": [
        {
          "output_type": "execute_result",
          "data": {
            "text/plain": [
              "pandas.core.frame.DataFrame"
            ]
          },
          "metadata": {},
          "execution_count": 7
        }
      ]
    },
    {
      "cell_type": "code",
      "metadata": {
        "colab": {
          "base_uri": "https://localhost:8080/"
        },
        "id": "9cimUzKd3r_d",
        "outputId": "dcba5ed3-61b2-406d-b74a-7ccc4b1f3084"
      },
      "source": [
        "delivery_time.shape"
      ],
      "execution_count": 8,
      "outputs": [
        {
          "output_type": "execute_result",
          "data": {
            "text/plain": [
              "(21, 2)"
            ]
          },
          "metadata": {},
          "execution_count": 8
        }
      ]
    },
    {
      "cell_type": "code",
      "metadata": {
        "colab": {
          "base_uri": "https://localhost:8080/"
        },
        "id": "N95CFKhd3uw1",
        "outputId": "6ad7f486-099a-4777-bff6-222902655650"
      },
      "source": [
        "delivery_time.dtypes"
      ],
      "execution_count": 9,
      "outputs": [
        {
          "output_type": "execute_result",
          "data": {
            "text/plain": [
              "Delivery_Time    float64\n",
              "Sorting_Time       int64\n",
              "dtype: object"
            ]
          },
          "metadata": {},
          "execution_count": 9
        }
      ]
    },
    {
      "cell_type": "code",
      "metadata": {
        "colab": {
          "base_uri": "https://localhost:8080/",
          "height": 286
        },
        "id": "U_e7bEjc3xE8",
        "outputId": "36a2a6f9-89e1-4c1a-cff3-2e725e1b90ff"
      },
      "source": [
        "delivery_time.boxplot()"
      ],
      "execution_count": 10,
      "outputs": [
        {
          "output_type": "execute_result",
          "data": {
            "text/plain": [
              "<matplotlib.axes._subplots.AxesSubplot at 0x7ff0a22b1ed0>"
            ]
          },
          "metadata": {},
          "execution_count": 10
        },
        {
          "output_type": "display_data",
          "data": {
            "image/png": "[encoded data removed]",
            "text/plain": [
              "<Figure size 432x288 with 1 Axes>"
            ]
          },
          "metadata": {
            "needs_background": "light"
          }
        }
      ]
    },
    {
      "cell_type": "code",
      "metadata": {
        "colab": {
          "base_uri": "https://localhost:8080/",
          "height": 391
        },
        "id": "9pj85TNl4Ny9",
        "outputId": "aa8a2b0b-fea3-470c-ad58-004dd2e05a7a"
      },
      "source": [
        "sns.pairplot(delivery_time)"
      ],
      "execution_count": 11,
      "outputs": [
        {
          "output_type": "execute_result",
          "data": {
            "text/plain": [
              "<seaborn.axisgrid.PairGrid at 0x7ff0a2186810>"
            ]
          },
          "metadata": {},
          "execution_count": 11
        },
        {
          "output_type": "display_data",
          "data": {
            "image/png": "[encoded data removed]",
            "text/plain": [
              "<Figure size 360x360 with 6 Axes>"
            ]
          },
          "metadata": {
            "needs_background": "light"
          }
        }
      ]
    },
    {
      "cell_type": "code",
      "metadata": {
        "colab": {
          "base_uri": "https://localhost:8080/"
        },
        "id": "KwStObk94Zbz",
        "outputId": "bf431441-a39d-4072-910a-8a86f0825aca"
      },
      "source": [
        "import statsmodels.formula.api as smf\n",
        "model = smf.ols(\"Delivery_Time~Sorting_Time\",data = delivery_time).fit()"
      ],
      "execution_count": 12,
      "outputs": [
        {
          "output_type": "stream",
          "name": "stderr",
          "text": [
            "/usr/local/lib/python3.7/dist-packages/statsmodels/tools/_testing.py:19: FutureWarning: pandas.util.testing is deprecated. Use the functions in the public API at pandas.testing instead.\n",
            "  import pandas.util.testing as tm\n"
          ]
        }
      ]
    },
    {
      "cell_type": "code",
      "metadata": {
        "colab": {
          "base_uri": "https://localhost:8080/",
          "height": 284
        },
        "id": "G8YZximc7oX9",
        "outputId": "ef783564-a953-4444-b766-849e013ecf47"
      },
      "source": [
        "sns.regplot(x=\"Sorting_Time\", y=\"Delivery_Time\", data=delivery_time);"
      ],
      "execution_count": 13,
      "outputs": [
        {
          "output_type": "display_data",
          "data": {
            "image/png": "[encoded data removed]",
            "text/plain": [
              "<Figure size 432x288 with 1 Axes>"
            ]
          },
          "metadata": {
            "needs_background": "light"
          }
        }
      ]
    },
    {
      "cell_type": "code",
      "metadata": {
        "colab": {
          "base_uri": "https://localhost:8080/"
        },
        "id": "ocKoXeSv8v86",
        "outputId": "ffcc6b68-7ed7-47c6-d013-899cc966e7fe"
      },
      "source": [
        "#Coefficients\n",
        "print(model.params)"
      ],
      "execution_count": 29,
      "outputs": [
        {
          "output_type": "stream",
          "name": "stdout",
          "text": [
            "Intercept       6.582734\n",
            "Sorting_Time    1.649020\n",
            "dtype: float64\n"
          ]
        }
      ]
    },
    {
      "cell_type": "code",
      "metadata": {
        "colab": {
          "base_uri": "https://localhost:8080/"
        },
        "id": "Ixkb0etu85qi",
        "outputId": "3c0c805f-f1fa-48da-b44d-10278aa08337"
      },
      "source": [
        "#t and p-Values\n",
        "print(model.tvalues, '\\n', model.pvalues)  "
      ],
      "execution_count": 15,
      "outputs": [
        {
          "output_type": "stream",
          "name": "stdout",
          "text": [
            "Intercept       3.823349\n",
            "Sorting_Time    6.387447\n",
            "dtype: float64 \n",
            " Intercept       0.001147\n",
            "Sorting_Time    0.000004\n",
            "dtype: float64\n"
          ]
        }
      ]
    },
    {
      "cell_type": "code",
      "metadata": {
        "colab": {
          "base_uri": "https://localhost:8080/"
        },
        "id": "NEdEWwc888R7",
        "outputId": "a49119fa-abb8-4fa4-f8f8-2509896a5090"
      },
      "source": [
        "#R squared values\n",
        "(model.rsquared,model.rsquared_adj)"
      ],
      "execution_count": 16,
      "outputs": [
        {
          "output_type": "execute_result",
          "data": {
            "text/plain": [
              "(0.6822714748417231, 0.6655489208860244)"
            ]
          },
          "metadata": {},
          "execution_count": 16
        }
      ]
    },
    {
      "cell_type": "code",
      "metadata": {
        "id": "TizkKs0r9Lv_"
      },
      "source": [
        "#Predict for new data point\n",
        "newdata=pd.Series([15,12,5,0,100])"
      ],
      "execution_count": 17,
      "outputs": []
    },
    {
      "cell_type": "code",
      "metadata": {
        "id": "qexaC9cK_w_l"
      },
      "source": [
        "data_pred = pd.DataFrame(newdata,columns=['Sorting_Time'])"
      ],
      "execution_count": 18,
      "outputs": []
    },
    {
      "cell_type": "code",
      "metadata": {
        "colab": {
          "base_uri": "https://localhost:8080/"
        },
        "id": "AqCLg5f6ADNS",
        "outputId": "07e36ca2-6ad5-4427-ed1f-4f92e29588c5"
      },
      "source": [
        "model.predict(data_pred)"
      ],
      "execution_count": 19,
      "outputs": [
        {
          "output_type": "execute_result",
          "data": {
            "text/plain": [
              "0     31.318032\n",
              "1     26.370973\n",
              "2     14.827833\n",
              "3      6.582734\n",
              "4    171.484724\n",
              "dtype: float64"
            ]
          },
          "metadata": {},
          "execution_count": 19
        }
      ]
    },
    {
      "cell_type": "markdown",
      "metadata": {
        "id": "7X2BivS-bwPX"
      },
      "source": [
        "Transforming data to square root "
      ]
    },
    {
      "cell_type": "code",
      "metadata": {
        "id": "su2Q6SJHacjC"
      },
      "source": [
        "delivery_time_sqrt = np.sqrt(delivery_time)"
      ],
      "execution_count": 31,
      "outputs": []
    },
    {
      "cell_type": "code",
      "metadata": {
        "colab": {
          "base_uri": "https://localhost:8080/",
          "height": 206
        },
        "id": "dLF160mPaclg",
        "outputId": "a7af91c8-7736-46fb-da3e-67e6a001dbe0"
      },
      "source": [
        "delivery_time_sqrt.head()"
      ],
      "execution_count": 32,
      "outputs": [
        {
          "output_type": "execute_result",
          "data": {
            "text/html": [
              "<div>\n",
              "<style scoped>\n",
              "    .dataframe tbody tr th:only-of-type {\n",
              "        vertical-align: middle;\n",
              "    }\n",
              "\n",
              "    .dataframe tbody tr th {\n",
              "        vertical-align: top;\n",
              "    }\n",
              "\n",
              "    .dataframe thead th {\n",
              "        text-align: right;\n",
              "    }\n",
              "</style>\n",
              "<table border=\"1\" class=\"dataframe\">\n",
              "  <thead>\n",
              "    <tr style=\"text-align: right;\">\n",
              "      <th></th>\n",
              "      <th>Delivery_Time</th>\n",
              "      <th>Sorting_Time</th>\n",
              "    </tr>\n",
              "  </thead>\n",
              "  <tbody>\n",
              "    <tr>\n",
              "      <th>0</th>\n",
              "      <td>4.582576</td>\n",
              "      <td>3.162278</td>\n",
              "    </tr>\n",
              "    <tr>\n",
              "      <th>1</th>\n",
              "      <td>3.674235</td>\n",
              "      <td>2.000000</td>\n",
              "    </tr>\n",
              "    <tr>\n",
              "      <th>2</th>\n",
              "      <td>4.444097</td>\n",
              "      <td>2.449490</td>\n",
              "    </tr>\n",
              "    <tr>\n",
              "      <th>3</th>\n",
              "      <td>4.898979</td>\n",
              "      <td>3.000000</td>\n",
              "    </tr>\n",
              "    <tr>\n",
              "      <th>4</th>\n",
              "      <td>5.385165</td>\n",
              "      <td>3.162278</td>\n",
              "    </tr>\n",
              "  </tbody>\n",
              "</table>\n",
              "</div>"
            ],
            "text/plain": [
              "   Delivery_Time  Sorting_Time\n",
              "0       4.582576      3.162278\n",
              "1       3.674235      2.000000\n",
              "2       4.444097      2.449490\n",
              "3       4.898979      3.000000\n",
              "4       5.385165      3.162278"
            ]
          },
          "metadata": {},
          "execution_count": 32
        }
      ]
    },
    {
      "cell_type": "code",
      "metadata": {
        "colab": {
          "base_uri": "https://localhost:8080/",
          "height": 457
        },
        "id": "u3Bdl9MgelyB",
        "outputId": "254a941f-4f49-4b1c-a7ce-251d366536ab"
      },
      "source": [
        "model = smf.ols(\"Delivery_Time~Sorting_Time\",data = delivery_time_sqrt).fit()\n",
        "sns.regplot(x=\"Sorting_Time\", y=\"Delivery_Time\", data=delivery_time_sqrt);\n",
        "\n",
        "#Coefficients\n",
        "print(model.params)\n",
        "#t and p-Values\n",
        "print(model.tvalues, '\\n', model.pvalues)  \n",
        "#R squared values\n",
        "print(model.rsquared,model.rsquared_adj)\n"
      ],
      "execution_count": 33,
      "outputs": [
        {
          "output_type": "stream",
          "name": "stdout",
          "text": [
            "Intercept       1.613479\n",
            "Sorting_Time    1.002217\n",
            "dtype: float64\n",
            "Intercept       4.628248\n",
            "Sorting_Time    7.152817\n",
            "dtype: float64 \n",
            " Intercept       1.833621e-04\n",
            "Sorting_Time    8.475706e-07\n",
            "dtype: float64\n",
            "0.7292011987544664 0.7149486302678594\n"
          ]
        },
        {
          "output_type": "display_data",
          "data": {
            "image/png": "[encoded data removed]",
            "text/plain": [
              "<Figure size 432x288 with 1 Axes>"
            ]
          },
          "metadata": {
            "needs_background": "light"
          }
        }
      ]
    },
    {
      "cell_type": "markdown",
      "metadata": {
        "id": "uF4O0oKRb3L8"
      },
      "source": [
        "Transforming data to cube root "
      ]
    },
    {
      "cell_type": "code",
      "metadata": {
        "id": "2O7GoZiwacoL"
      },
      "source": [
        "delivery_time_cbrt = np.cbrt(delivery_time)"
      ],
      "execution_count": 34,
      "outputs": []
    },
    {
      "cell_type": "code",
      "metadata": {
        "colab": {
          "base_uri": "https://localhost:8080/",
          "height": 206
        },
        "id": "23WouxcracrO",
        "outputId": "a64084e0-4bd5-4695-ca4e-334b1cad022d"
      },
      "source": [
        "delivery_time_cbrt.head()"
      ],
      "execution_count": 35,
      "outputs": [
        {
          "output_type": "execute_result",
          "data": {
            "text/html": [
              "<div>\n",
              "<style scoped>\n",
              "    .dataframe tbody tr th:only-of-type {\n",
              "        vertical-align: middle;\n",
              "    }\n",
              "\n",
              "    .dataframe tbody tr th {\n",
              "        vertical-align: top;\n",
              "    }\n",
              "\n",
              "    .dataframe thead th {\n",
              "        text-align: right;\n",
              "    }\n",
              "</style>\n",
              "<table border=\"1\" class=\"dataframe\">\n",
              "  <thead>\n",
              "    <tr style=\"text-align: right;\">\n",
              "      <th></th>\n",
              "      <th>Delivery_Time</th>\n",
              "      <th>Sorting_Time</th>\n",
              "    </tr>\n",
              "  </thead>\n",
              "  <tbody>\n",
              "    <tr>\n",
              "      <th>0</th>\n",
              "      <td>2.758924</td>\n",
              "      <td>2.154435</td>\n",
              "    </tr>\n",
              "    <tr>\n",
              "      <th>1</th>\n",
              "      <td>2.381102</td>\n",
              "      <td>1.587401</td>\n",
              "    </tr>\n",
              "    <tr>\n",
              "      <th>2</th>\n",
              "      <td>2.703060</td>\n",
              "      <td>1.817121</td>\n",
              "    </tr>\n",
              "    <tr>\n",
              "      <th>3</th>\n",
              "      <td>2.884499</td>\n",
              "      <td>2.080084</td>\n",
              "    </tr>\n",
              "    <tr>\n",
              "      <th>4</th>\n",
              "      <td>3.072317</td>\n",
              "      <td>2.154435</td>\n",
              "    </tr>\n",
              "  </tbody>\n",
              "</table>\n",
              "</div>"
            ],
            "text/plain": [
              "   Delivery_Time  Sorting_Time\n",
              "0       2.758924      2.154435\n",
              "1       2.381102      1.587401\n",
              "2       2.703060      1.817121\n",
              "3       2.884499      2.080084\n",
              "4       3.072317      2.154435"
            ]
          },
          "metadata": {},
          "execution_count": 35
        }
      ]
    },
    {
      "cell_type": "code",
      "metadata": {
        "colab": {
          "base_uri": "https://localhost:8080/",
          "height": 454
        },
        "id": "kZqKvUjVfy7T",
        "outputId": "71269519-706b-47ce-a906-6ff97414d953"
      },
      "source": [
        "model = smf.ols(\"Delivery_Time~Sorting_Time\",data = delivery_time_cbrt).fit()\n",
        "sns.regplot(x=\"Sorting_Time\", y=\"Delivery_Time\", data=delivery_time_cbrt);\n",
        "\n",
        "#Coefficients\n",
        "print(model.params)\n",
        "#t and p-Values\n",
        "print(model.tvalues, '\\n', model.pvalues)  \n",
        "#R squared values\n",
        "print(model.rsquared,model.rsquared_adj)"
      ],
      "execution_count": 36,
      "outputs": [
        {
          "output_type": "stream",
          "name": "stdout",
          "text": [
            "Intercept       1.013571\n",
            "Sorting_Time    0.845585\n",
            "dtype: float64\n",
            "Intercept       4.900067\n",
            "Sorting_Time    7.433210\n",
            "dtype: float64 \n",
            " Intercept       9.941770e-05\n",
            "Sorting_Time    4.904127e-07\n",
            "dtype: float64\n",
            "0.7441167577566268 0.7306492186911862\n"
          ]
        },
        {
          "output_type": "display_data",
          "data": {
            "image/png": "[encoded data removed]",
            "text/plain": [
              "<Figure size 432x288 with 1 Axes>"
            ]
          },
          "metadata": {
            "needs_background": "light"
          }
        }
      ]
    },
    {
      "cell_type": "markdown",
      "metadata": {
        "id": "EKG4vpIKcJDI"
      },
      "source": [
        "Transforming data to log "
      ]
    },
    {
      "cell_type": "code",
      "metadata": {
        "id": "HcZhpcDiact2"
      },
      "source": [
        "delivery_time_log = np.log(delivery_time)"
      ],
      "execution_count": 37,
      "outputs": []
    },
    {
      "cell_type": "code",
      "metadata": {
        "colab": {
          "base_uri": "https://localhost:8080/",
          "height": 206
        },
        "id": "cTkq64iyacxB",
        "outputId": "9c5d6b1b-4396-4e63-be7f-908403f28eae"
      },
      "source": [
        "delivery_time_log.head()"
      ],
      "execution_count": 38,
      "outputs": [
        {
          "output_type": "execute_result",
          "data": {
            "text/html": [
              "<div>\n",
              "<style scoped>\n",
              "    .dataframe tbody tr th:only-of-type {\n",
              "        vertical-align: middle;\n",
              "    }\n",
              "\n",
              "    .dataframe tbody tr th {\n",
              "        vertical-align: top;\n",
              "    }\n",
              "\n",
              "    .dataframe thead th {\n",
              "        text-align: right;\n",
              "    }\n",
              "</style>\n",
              "<table border=\"1\" class=\"dataframe\">\n",
              "  <thead>\n",
              "    <tr style=\"text-align: right;\">\n",
              "      <th></th>\n",
              "      <th>Delivery_Time</th>\n",
              "      <th>Sorting_Time</th>\n",
              "    </tr>\n",
              "  </thead>\n",
              "  <tbody>\n",
              "    <tr>\n",
              "      <th>0</th>\n",
              "      <td>3.044522</td>\n",
              "      <td>2.302585</td>\n",
              "    </tr>\n",
              "    <tr>\n",
              "      <th>1</th>\n",
              "      <td>2.602690</td>\n",
              "      <td>1.386294</td>\n",
              "    </tr>\n",
              "    <tr>\n",
              "      <th>2</th>\n",
              "      <td>2.983153</td>\n",
              "      <td>1.791759</td>\n",
              "    </tr>\n",
              "    <tr>\n",
              "      <th>3</th>\n",
              "      <td>3.178054</td>\n",
              "      <td>2.197225</td>\n",
              "    </tr>\n",
              "    <tr>\n",
              "      <th>4</th>\n",
              "      <td>3.367296</td>\n",
              "      <td>2.302585</td>\n",
              "    </tr>\n",
              "  </tbody>\n",
              "</table>\n",
              "</div>"
            ],
            "text/plain": [
              "   Delivery_Time  Sorting_Time\n",
              "0       3.044522      2.302585\n",
              "1       2.602690      1.386294\n",
              "2       2.983153      1.791759\n",
              "3       3.178054      2.197225\n",
              "4       3.367296      2.302585"
            ]
          },
          "metadata": {},
          "execution_count": 38
        }
      ]
    },
    {
      "cell_type": "code",
      "metadata": {
        "colab": {
          "base_uri": "https://localhost:8080/",
          "height": 454
        },
        "id": "URQS_HbsgS0P",
        "outputId": "5a10d515-f4df-4c0d-963c-b204f6494543"
      },
      "source": [
        "model = smf.ols(\"Delivery_Time~Sorting_Time\",data = delivery_time_log).fit()\n",
        "sns.regplot(x=\"Sorting_Time\", y=\"Delivery_Time\", data=delivery_time_log);\n",
        "\n",
        "#Coefficients\n",
        "print(model.params)\n",
        "#t and p-Values\n",
        "print(model.tvalues, '\\n', model.pvalues)  \n",
        "#R squared values\n",
        "print(model.rsquared,model.rsquared_adj)"
      ],
      "execution_count": 39,
      "outputs": [
        {
          "output_type": "stream",
          "name": "stdout",
          "text": [
            "Intercept       1.741987\n",
            "Sorting_Time    0.597522\n",
            "dtype: float64\n",
            "Intercept       13.085552\n",
            "Sorting_Time     8.024484\n",
            "dtype: float64 \n",
            " Intercept       5.921137e-11\n",
            "Sorting_Time    1.601539e-07\n",
            "dtype: float64\n",
            "0.77216134926874 0.7601698413355158\n"
          ]
        },
        {
          "output_type": "display_data",
          "data": {
            "image/png": "[encoded data removed]",
            "text/plain": [
              "<Figure size 432x288 with 1 Axes>"
            ]
          },
          "metadata": {
            "needs_background": "light"
          }
        }
      ]
    },
    {
      "cell_type": "markdown",
      "metadata": {
        "id": "a0DKK9XrdJNF"
      },
      "source": [
        "Transforming data to square "
      ]
    },
    {
      "cell_type": "code",
      "metadata": {
        "id": "B33dlgn9acz5"
      },
      "source": [
        "delivery_time_square = np.square(delivery_time)"
      ],
      "execution_count": 40,
      "outputs": []
    },
    {
      "cell_type": "code",
      "metadata": {
        "colab": {
          "base_uri": "https://localhost:8080/",
          "height": 206
        },
        "id": "0P5i3YHPdNgf",
        "outputId": "27b4b34f-1f93-48cb-9234-2f35905b9747"
      },
      "source": [
        "delivery_time_square.head()"
      ],
      "execution_count": 41,
      "outputs": [
        {
          "output_type": "execute_result",
          "data": {
            "text/html": [
              "<div>\n",
              "<style scoped>\n",
              "    .dataframe tbody tr th:only-of-type {\n",
              "        vertical-align: middle;\n",
              "    }\n",
              "\n",
              "    .dataframe tbody tr th {\n",
              "        vertical-align: top;\n",
              "    }\n",
              "\n",
              "    .dataframe thead th {\n",
              "        text-align: right;\n",
              "    }\n",
              "</style>\n",
              "<table border=\"1\" class=\"dataframe\">\n",
              "  <thead>\n",
              "    <tr style=\"text-align: right;\">\n",
              "      <th></th>\n",
              "      <th>Delivery_Time</th>\n",
              "      <th>Sorting_Time</th>\n",
              "    </tr>\n",
              "  </thead>\n",
              "  <tbody>\n",
              "    <tr>\n",
              "      <th>0</th>\n",
              "      <td>441.0000</td>\n",
              "      <td>100.0</td>\n",
              "    </tr>\n",
              "    <tr>\n",
              "      <th>1</th>\n",
              "      <td>182.2500</td>\n",
              "      <td>16.0</td>\n",
              "    </tr>\n",
              "    <tr>\n",
              "      <th>2</th>\n",
              "      <td>390.0625</td>\n",
              "      <td>36.0</td>\n",
              "    </tr>\n",
              "    <tr>\n",
              "      <th>3</th>\n",
              "      <td>576.0000</td>\n",
              "      <td>81.0</td>\n",
              "    </tr>\n",
              "    <tr>\n",
              "      <th>4</th>\n",
              "      <td>841.0000</td>\n",
              "      <td>100.0</td>\n",
              "    </tr>\n",
              "  </tbody>\n",
              "</table>\n",
              "</div>"
            ],
            "text/plain": [
              "   Delivery_Time  Sorting_Time\n",
              "0       441.0000         100.0\n",
              "1       182.2500          16.0\n",
              "2       390.0625          36.0\n",
              "3       576.0000          81.0\n",
              "4       841.0000         100.0"
            ]
          },
          "metadata": {},
          "execution_count": 41
        }
      ]
    },
    {
      "cell_type": "code",
      "metadata": {
        "colab": {
          "base_uri": "https://localhost:8080/",
          "height": 454
        },
        "id": "x9ucyCRDdNj3",
        "outputId": "d16d9730-15ae-4db0-88dc-0ddff7faebf8"
      },
      "source": [
        "model = smf.ols(\"Delivery_Time~Sorting_Time\",data = delivery_time_square).fit()\n",
        "sns.regplot(x=\"Sorting_Time\", y=\"Delivery_Time\", data=delivery_time_square);\n",
        "\n",
        "#Coefficients\n",
        "print(model.params)\n",
        "#t and p-Values\n",
        "print(model.tvalues, '\\n', model.pvalues)  \n",
        "#R squared values\n",
        "print(model.rsquared,model.rsquared_adj)\n"
      ],
      "execution_count": 42,
      "outputs": [
        {
          "output_type": "stream",
          "name": "stdout",
          "text": [
            "Intercept       114.154847\n",
            "Sorting_Time      4.323874\n",
            "dtype: float64\n",
            "Intercept       2.523810\n",
            "Sorting_Time    5.209376\n",
            "dtype: float64 \n",
            " Intercept       0.020675\n",
            "Sorting_Time    0.000050\n",
            "dtype: float64\n",
            "0.5881883446986836 0.566514047051246\n"
          ]
        },
        {
          "output_type": "display_data",
          "data": {
            "image/png": "[encoded data removed]",
            "text/plain": [
              "<Figure size 432x288 with 1 Axes>"
            ]
          },
          "metadata": {
            "needs_background": "light"
          }
        }
      ]
    },
    {
      "cell_type": "markdown",
      "metadata": {
        "id": "s5twM62bgpjp"
      },
      "source": [
        "We will select delivery_time_log as our best model prediction table as the r squared value is more in log transformation. "
      ]
    },
    {
      "cell_type": "markdown",
      "metadata": {
        "id": "bmYLAYxJBehB"
      },
      "source": [
        "# Question 2-  Salary_hike -> Build a prediction model for Salary_hike"
      ]
    },
    {
      "cell_type": "code",
      "metadata": {
        "id": "jwYK6xFSBkhu"
      },
      "source": [
        "salary_df = pd.read_csv(\"/content/Salary_Data.csv\")"
      ],
      "execution_count": 43,
      "outputs": []
    },
    {
      "cell_type": "code",
      "metadata": {
        "colab": {
          "base_uri": "https://localhost:8080/",
          "height": 206
        },
        "id": "Lx12qvARB258",
        "outputId": "f875964d-9c4e-4d9d-809a-e2021ff7d56b"
      },
      "source": [
        "salary_df.head()"
      ],
      "execution_count": 44,
      "outputs": [
        {
          "output_type": "execute_result",
          "data": {
            "text/html": [
              "<div>\n",
              "<style scoped>\n",
              "    .dataframe tbody tr th:only-of-type {\n",
              "        vertical-align: middle;\n",
              "    }\n",
              "\n",
              "    .dataframe tbody tr th {\n",
              "        vertical-align: top;\n",
              "    }\n",
              "\n",
              "    .dataframe thead th {\n",
              "        text-align: right;\n",
              "    }\n",
              "</style>\n",
              "<table border=\"1\" class=\"dataframe\">\n",
              "  <thead>\n",
              "    <tr style=\"text-align: right;\">\n",
              "      <th></th>\n",
              "      <th>YearsExperience</th>\n",
              "      <th>Salary</th>\n",
              "    </tr>\n",
              "  </thead>\n",
              "  <tbody>\n",
              "    <tr>\n",
              "      <th>0</th>\n",
              "      <td>1.1</td>\n",
              "      <td>39343.0</td>\n",
              "    </tr>\n",
              "    <tr>\n",
              "      <th>1</th>\n",
              "      <td>1.3</td>\n",
              "      <td>46205.0</td>\n",
              "    </tr>\n",
              "    <tr>\n",
              "      <th>2</th>\n",
              "      <td>1.5</td>\n",
              "      <td>37731.0</td>\n",
              "    </tr>\n",
              "    <tr>\n",
              "      <th>3</th>\n",
              "      <td>2.0</td>\n",
              "      <td>43525.0</td>\n",
              "    </tr>\n",
              "    <tr>\n",
              "      <th>4</th>\n",
              "      <td>2.2</td>\n",
              "      <td>39891.0</td>\n",
              "    </tr>\n",
              "  </tbody>\n",
              "</table>\n",
              "</div>"
            ],
            "text/plain": [
              "   YearsExperience   Salary\n",
              "0              1.1  39343.0\n",
              "1              1.3  46205.0\n",
              "2              1.5  37731.0\n",
              "3              2.0  43525.0\n",
              "4              2.2  39891.0"
            ]
          },
          "metadata": {},
          "execution_count": 44
        }
      ]
    },
    {
      "cell_type": "code",
      "metadata": {
        "colab": {
          "base_uri": "https://localhost:8080/"
        },
        "id": "OwLen47MB4c4",
        "outputId": "efd82f20-3a60-4c3d-ef64-766e9b48f3c2"
      },
      "source": [
        "salary_df.dtypes"
      ],
      "execution_count": 45,
      "outputs": [
        {
          "output_type": "execute_result",
          "data": {
            "text/plain": [
              "YearsExperience    float64\n",
              "Salary             float64\n",
              "dtype: object"
            ]
          },
          "metadata": {},
          "execution_count": 45
        }
      ]
    },
    {
      "cell_type": "code",
      "metadata": {
        "colab": {
          "base_uri": "https://localhost:8080/"
        },
        "id": "FALGUquACDZf",
        "outputId": "0d8bc3bc-043e-498c-b0d9-c64a6b1b0b6a"
      },
      "source": [
        "salary_df.info()"
      ],
      "execution_count": 46,
      "outputs": [
        {
          "output_type": "stream",
          "name": "stdout",
          "text": [
            "<class 'pandas.core.frame.DataFrame'>\n",
            "RangeIndex: 30 entries, 0 to 29\n",
            "Data columns (total 2 columns):\n",
            " #   Column           Non-Null Count  Dtype  \n",
            "---  ------           --------------  -----  \n",
            " 0   YearsExperience  30 non-null     float64\n",
            " 1   Salary           30 non-null     float64\n",
            "dtypes: float64(2)\n",
            "memory usage: 608.0 bytes\n"
          ]
        }
      ]
    },
    {
      "cell_type": "code",
      "metadata": {
        "colab": {
          "base_uri": "https://localhost:8080/",
          "height": 282
        },
        "id": "icECWF70CNOn",
        "outputId": "b01fa6a6-1cfd-4ddb-abbb-fd6620ab1c48"
      },
      "source": [
        "salary_df.boxplot(column=['Salary'])"
      ],
      "execution_count": 47,
      "outputs": [
        {
          "output_type": "execute_result",
          "data": {
            "text/plain": [
              "<matplotlib.axes._subplots.AxesSubplot at 0x7ff08c93b450>"
            ]
          },
          "metadata": {},
          "execution_count": 47
        },
        {
          "output_type": "display_data",
          "data": {
            "image/png": "[encoded data removed]",
            "text/plain": [
              "<Figure size 432x288 with 1 Axes>"
            ]
          },
          "metadata": {
            "needs_background": "light"
          }
        }
      ]
    },
    {
      "cell_type": "code",
      "metadata": {
        "colab": {
          "base_uri": "https://localhost:8080/",
          "height": 391
        },
        "id": "nY0eLmEVD2ib",
        "outputId": "528a5bc6-5b90-4a17-e6ce-03600e084c74"
      },
      "source": [
        "sns.pairplot(salary_df)"
      ],
      "execution_count": 48,
      "outputs": [
        {
          "output_type": "execute_result",
          "data": {
            "text/plain": [
              "<seaborn.axisgrid.PairGrid at 0x7ff08c922b10>"
            ]
          },
          "metadata": {},
          "execution_count": 48
        },
        {
          "output_type": "display_data",
          "data": {
            "image/png": "[encoded data removed]",
            "text/plain": [
              "<Figure size 360x360 with 6 Axes>"
            ]
          },
          "metadata": {
            "needs_background": "light"
          }
        }
      ]
    },
    {
      "cell_type": "code",
      "metadata": {
        "colab": {
          "base_uri": "https://localhost:8080/",
          "height": 279
        },
        "id": "2P95sOwfD74k",
        "outputId": "2a46a796-ffbe-4c5d-bec9-52cfba4905eb"
      },
      "source": [
        "import statsmodels.formula.api as smf\n",
        "salary_model = smf.ols(\"Salary~YearsExperience\",data = salary_df).fit()\n",
        "\n",
        "sns.regplot(x=\"YearsExperience\", y=\"Salary\", data=salary_df);"
      ],
      "execution_count": 49,
      "outputs": [
        {
          "output_type": "display_data",
          "data": {
            "image/png": "[encoded data removed]",
            "text/plain": [
              "<Figure size 432x288 with 1 Axes>"
            ]
          },
          "metadata": {
            "needs_background": "light"
          }
        }
      ]
    },
    {
      "cell_type": "code",
      "metadata": {
        "colab": {
          "base_uri": "https://localhost:8080/"
        },
        "id": "C1SRv181Ek-N",
        "outputId": "44b91329-be9d-468c-df3d-24c8f65273ae"
      },
      "source": [
        "#Coefficients\n",
        "salary_model.params"
      ],
      "execution_count": 50,
      "outputs": [
        {
          "output_type": "execute_result",
          "data": {
            "text/plain": [
              "Intercept          25792.200199\n",
              "YearsExperience     9449.962321\n",
              "dtype: float64"
            ]
          },
          "metadata": {},
          "execution_count": 50
        }
      ]
    },
    {
      "cell_type": "code",
      "metadata": {
        "colab": {
          "base_uri": "https://localhost:8080/"
        },
        "id": "76hOoOcME_VS",
        "outputId": "82251e2f-1dc8-4849-ac37-f775126a04cf"
      },
      "source": [
        "#t and p-Values\n",
        "print(salary_model.tvalues, '\\n', salary_model.pvalues) "
      ],
      "execution_count": 51,
      "outputs": [
        {
          "output_type": "stream",
          "name": "stdout",
          "text": [
            "Intercept          11.346940\n",
            "YearsExperience    24.950094\n",
            "dtype: float64 \n",
            " Intercept          5.511950e-12\n",
            "YearsExperience    1.143068e-20\n",
            "dtype: float64\n"
          ]
        }
      ]
    },
    {
      "cell_type": "code",
      "metadata": {
        "colab": {
          "base_uri": "https://localhost:8080/"
        },
        "id": "6npBvFA9FPrj",
        "outputId": "b46bbec6-7b87-4f72-b832-0b5eb9be17b6"
      },
      "source": [
        "#R squared values\n",
        "(salary_model.rsquared,salary_model.rsquared_adj)"
      ],
      "execution_count": 52,
      "outputs": [
        {
          "output_type": "execute_result",
          "data": {
            "text/plain": [
              "(0.9569566641435086, 0.9554194021486339)"
            ]
          },
          "metadata": {},
          "execution_count": 52
        }
      ]
    },
    {
      "cell_type": "code",
      "metadata": {
        "id": "-3rSnN5lFTk8"
      },
      "source": [
        "#Predict for new data point\n",
        "exp_newdata=pd.Series([8,12,5,0,25])"
      ],
      "execution_count": 53,
      "outputs": []
    },
    {
      "cell_type": "code",
      "metadata": {
        "id": "vx5PrEguFaPu"
      },
      "source": [
        "salary_data_pred = pd.DataFrame(exp_newdata,columns=['YearsExperience'])"
      ],
      "execution_count": 54,
      "outputs": []
    },
    {
      "cell_type": "code",
      "metadata": {
        "colab": {
          "base_uri": "https://localhost:8080/"
        },
        "id": "EoYC1qYjFaPv",
        "outputId": "47a55e50-5588-479d-ea74-578cc1c297d6"
      },
      "source": [
        "salary_model.predict(salary_data_pred)"
      ],
      "execution_count": 55,
      "outputs": [
        {
          "output_type": "execute_result",
          "data": {
            "text/plain": [
              "0    101391.898770\n",
              "1    139191.748056\n",
              "2     73042.011806\n",
              "3     25792.200199\n",
              "4    262041.258235\n",
              "dtype: float64"
            ]
          },
          "metadata": {},
          "execution_count": 55
        }
      ]
    },
    {
      "cell_type": "code",
      "metadata": {
        "id": "e9ahlpTAiRWJ"
      },
      "source": [
        "#Transforming data to square"
      ],
      "execution_count": null,
      "outputs": []
    },
    {
      "cell_type": "code",
      "metadata": {
        "id": "vhEPWckRhamR"
      },
      "source": [
        "salary_df_square = np.square(salary_df)"
      ],
      "execution_count": 56,
      "outputs": []
    },
    {
      "cell_type": "code",
      "metadata": {
        "colab": {
          "base_uri": "https://localhost:8080/",
          "height": 206
        },
        "id": "LQOzFydHhamS",
        "outputId": "38593272-8701-4108-d274-c093292c555f"
      },
      "source": [
        "salary_df_square.head()"
      ],
      "execution_count": 57,
      "outputs": [
        {
          "output_type": "execute_result",
          "data": {
            "text/html": [
              "<div>\n",
              "<style scoped>\n",
              "    .dataframe tbody tr th:only-of-type {\n",
              "        vertical-align: middle;\n",
              "    }\n",
              "\n",
              "    .dataframe tbody tr th {\n",
              "        vertical-align: top;\n",
              "    }\n",
              "\n",
              "    .dataframe thead th {\n",
              "        text-align: right;\n",
              "    }\n",
              "</style>\n",
              "<table border=\"1\" class=\"dataframe\">\n",
              "  <thead>\n",
              "    <tr style=\"text-align: right;\">\n",
              "      <th></th>\n",
              "      <th>YearsExperience</th>\n",
              "      <th>Salary</th>\n",
              "    </tr>\n",
              "  </thead>\n",
              "  <tbody>\n",
              "    <tr>\n",
              "      <th>0</th>\n",
              "      <td>1.21</td>\n",
              "      <td>1.547872e+09</td>\n",
              "    </tr>\n",
              "    <tr>\n",
              "      <th>1</th>\n",
              "      <td>1.69</td>\n",
              "      <td>2.134902e+09</td>\n",
              "    </tr>\n",
              "    <tr>\n",
              "      <th>2</th>\n",
              "      <td>2.25</td>\n",
              "      <td>1.423628e+09</td>\n",
              "    </tr>\n",
              "    <tr>\n",
              "      <th>3</th>\n",
              "      <td>4.00</td>\n",
              "      <td>1.894426e+09</td>\n",
              "    </tr>\n",
              "    <tr>\n",
              "      <th>4</th>\n",
              "      <td>4.84</td>\n",
              "      <td>1.591292e+09</td>\n",
              "    </tr>\n",
              "  </tbody>\n",
              "</table>\n",
              "</div>"
            ],
            "text/plain": [
              "   YearsExperience        Salary\n",
              "0             1.21  1.547872e+09\n",
              "1             1.69  2.134902e+09\n",
              "2             2.25  1.423628e+09\n",
              "3             4.00  1.894426e+09\n",
              "4             4.84  1.591292e+09"
            ]
          },
          "metadata": {},
          "execution_count": 57
        }
      ]
    },
    {
      "cell_type": "code",
      "metadata": {
        "colab": {
          "base_uri": "https://localhost:8080/",
          "height": 463
        },
        "id": "PkhoIf73hamT",
        "outputId": "f7c0b657-1d23-4124-dcbb-9326ed47a191"
      },
      "source": [
        "model = smf.ols(\"Salary~YearsExperience\",data = salary_df_square).fit()\n",
        "sns.regplot(x=\"YearsExperience\", y=\"Salary\", data=salary_df_square);\n",
        "\n",
        "#Coefficients\n",
        "print(model.params)\n",
        "#t and p-Values\n",
        "print(model.tvalues, '\\n', model.pvalues)  \n",
        "#R squared values\n",
        "print(model.rsquared,model.rsquared_adj)\n"
      ],
      "execution_count": 58,
      "outputs": [
        {
          "output_type": "stream",
          "name": "stdout",
          "text": [
            "Intercept          1.866350e+09\n",
            "YearsExperience    1.287350e+08\n",
            "dtype: float64\n",
            "Intercept           7.137536\n",
            "YearsExperience    24.121846\n",
            "dtype: float64 \n",
            " Intercept          9.113094e-08\n",
            "YearsExperience    2.824566e-20\n",
            "dtype: float64\n",
            "0.9540880842110778 0.9524483729329021\n"
          ]
        },
        {
          "output_type": "display_data",
          "data": {
            "image/png": "[encoded data removed]",
            "text/plain": [
              "<Figure size 432x288 with 1 Axes>"
            ]
          },
          "metadata": {
            "needs_background": "light"
          }
        }
      ]
    },
    {
      "cell_type": "code",
      "metadata": {
        "id": "gRQE7JQRiVtT"
      },
      "source": [
        "#Transforming data to square root"
      ],
      "execution_count": 59,
      "outputs": []
    },
    {
      "cell_type": "code",
      "metadata": {
        "id": "IPsbSoTxiVtU"
      },
      "source": [
        "salary_df_sqrt = np.sqrt(salary_df)"
      ],
      "execution_count": 60,
      "outputs": []
    },
    {
      "cell_type": "code",
      "metadata": {
        "colab": {
          "base_uri": "https://localhost:8080/",
          "height": 206
        },
        "id": "LpxIzwMeiVtV",
        "outputId": "e6f1766d-4aaa-42d5-c1e1-6d317985f3ad"
      },
      "source": [
        "salary_df_sqrt.head()"
      ],
      "execution_count": 61,
      "outputs": [
        {
          "output_type": "execute_result",
          "data": {
            "text/html": [
              "<div>\n",
              "<style scoped>\n",
              "    .dataframe tbody tr th:only-of-type {\n",
              "        vertical-align: middle;\n",
              "    }\n",
              "\n",
              "    .dataframe tbody tr th {\n",
              "        vertical-align: top;\n",
              "    }\n",
              "\n",
              "    .dataframe thead th {\n",
              "        text-align: right;\n",
              "    }\n",
              "</style>\n",
              "<table border=\"1\" class=\"dataframe\">\n",
              "  <thead>\n",
              "    <tr style=\"text-align: right;\">\n",
              "      <th></th>\n",
              "      <th>YearsExperience</th>\n",
              "      <th>Salary</th>\n",
              "    </tr>\n",
              "  </thead>\n",
              "  <tbody>\n",
              "    <tr>\n",
              "      <th>0</th>\n",
              "      <td>1.048809</td>\n",
              "      <td>198.350700</td>\n",
              "    </tr>\n",
              "    <tr>\n",
              "      <th>1</th>\n",
              "      <td>1.140175</td>\n",
              "      <td>214.953483</td>\n",
              "    </tr>\n",
              "    <tr>\n",
              "      <th>2</th>\n",
              "      <td>1.224745</td>\n",
              "      <td>194.244691</td>\n",
              "    </tr>\n",
              "    <tr>\n",
              "      <th>3</th>\n",
              "      <td>1.414214</td>\n",
              "      <td>208.626460</td>\n",
              "    </tr>\n",
              "    <tr>\n",
              "      <th>4</th>\n",
              "      <td>1.483240</td>\n",
              "      <td>199.727314</td>\n",
              "    </tr>\n",
              "  </tbody>\n",
              "</table>\n",
              "</div>"
            ],
            "text/plain": [
              "   YearsExperience      Salary\n",
              "0         1.048809  198.350700\n",
              "1         1.140175  214.953483\n",
              "2         1.224745  194.244691\n",
              "3         1.414214  208.626460\n",
              "4         1.483240  199.727314"
            ]
          },
          "metadata": {},
          "execution_count": 61
        }
      ]
    },
    {
      "cell_type": "code",
      "metadata": {
        "colab": {
          "base_uri": "https://localhost:8080/",
          "height": 453
        },
        "id": "o-OdiRXiiVtV",
        "outputId": "02d56e4c-7be0-4a7f-93c7-a196651c4dbb"
      },
      "source": [
        "model = smf.ols(\"Salary~YearsExperience\",data = salary_df_sqrt).fit()\n",
        "sns.regplot(x=\"YearsExperience\", y=\"Salary\", data=salary_df_sqrt);\n",
        "\n",
        "#Coefficients\n",
        "print(model.params)\n",
        "#t and p-Values\n",
        "print(model.tvalues, '\\n', model.pvalues)  \n",
        "#R squared values\n",
        "print(model.rsquared,model.rsquared_adj)\n"
      ],
      "execution_count": 62,
      "outputs": [
        {
          "output_type": "stream",
          "name": "stdout",
          "text": [
            "Intercept          103.568031\n",
            "YearsExperience     75.626932\n",
            "dtype: float64\n",
            "Intercept          12.663496\n",
            "YearsExperience    21.315126\n",
            "dtype: float64 \n",
            " Intercept          4.141645e-13\n",
            "YearsExperience    7.584326e-19\n",
            "dtype: float64\n",
            "0.9419490138976825 0.9398757643940283\n"
          ]
        },
        {
          "output_type": "display_data",
          "data": {
            "image/png": "[encoded data removed]",
            "text/plain": [
              "<Figure size 432x288 with 1 Axes>"
            ]
          },
          "metadata": {
            "needs_background": "light"
          }
        }
      ]
    },
    {
      "cell_type": "code",
      "metadata": {
        "id": "i4OlynUDiwK2"
      },
      "source": [
        "#Transforming data to cube root"
      ],
      "execution_count": null,
      "outputs": []
    },
    {
      "cell_type": "code",
      "metadata": {
        "id": "gx-5EW41iwK3"
      },
      "source": [
        "salary_df_cbrt = np.cbrt(salary_df)"
      ],
      "execution_count": 63,
      "outputs": []
    },
    {
      "cell_type": "code",
      "metadata": {
        "colab": {
          "base_uri": "https://localhost:8080/",
          "height": 206
        },
        "id": "Q5Bgfju9iwK3",
        "outputId": "262c688d-fe07-43f7-9721-bbb5b7a2e3a0"
      },
      "source": [
        "salary_df_cbrt.head()"
      ],
      "execution_count": 64,
      "outputs": [
        {
          "output_type": "execute_result",
          "data": {
            "text/html": [
              "<div>\n",
              "<style scoped>\n",
              "    .dataframe tbody tr th:only-of-type {\n",
              "        vertical-align: middle;\n",
              "    }\n",
              "\n",
              "    .dataframe tbody tr th {\n",
              "        vertical-align: top;\n",
              "    }\n",
              "\n",
              "    .dataframe thead th {\n",
              "        text-align: right;\n",
              "    }\n",
              "</style>\n",
              "<table border=\"1\" class=\"dataframe\">\n",
              "  <thead>\n",
              "    <tr style=\"text-align: right;\">\n",
              "      <th></th>\n",
              "      <th>YearsExperience</th>\n",
              "      <th>Salary</th>\n",
              "    </tr>\n",
              "  </thead>\n",
              "  <tbody>\n",
              "    <tr>\n",
              "      <th>0</th>\n",
              "      <td>1.032280</td>\n",
              "      <td>34.011242</td>\n",
              "    </tr>\n",
              "    <tr>\n",
              "      <th>1</th>\n",
              "      <td>1.091393</td>\n",
              "      <td>35.883626</td>\n",
              "    </tr>\n",
              "    <tr>\n",
              "      <th>2</th>\n",
              "      <td>1.144714</td>\n",
              "      <td>33.540235</td>\n",
              "    </tr>\n",
              "    <tr>\n",
              "      <th>3</th>\n",
              "      <td>1.259921</td>\n",
              "      <td>35.175984</td>\n",
              "    </tr>\n",
              "    <tr>\n",
              "      <th>4</th>\n",
              "      <td>1.300591</td>\n",
              "      <td>34.168426</td>\n",
              "    </tr>\n",
              "  </tbody>\n",
              "</table>\n",
              "</div>"
            ],
            "text/plain": [
              "   YearsExperience     Salary\n",
              "0         1.032280  34.011242\n",
              "1         1.091393  35.883626\n",
              "2         1.144714  33.540235\n",
              "3         1.259921  35.175984\n",
              "4         1.300591  34.168426"
            ]
          },
          "metadata": {},
          "execution_count": 64
        }
      ]
    },
    {
      "cell_type": "code",
      "metadata": {
        "colab": {
          "base_uri": "https://localhost:8080/",
          "height": 453
        },
        "id": "W_8HVV9ziwK3",
        "outputId": "b4203054-fde3-4579-d3c8-a50c5473bc5e"
      },
      "source": [
        "model = smf.ols(\"Salary~YearsExperience\",data = salary_df_cbrt).fit()\n",
        "sns.regplot(x=\"YearsExperience\", y=\"Salary\", data=salary_df_cbrt);\n",
        "\n",
        "#Coefficients\n",
        "print(model.params)\n",
        "#t and p-Values\n",
        "print(model.tvalues, '\\n', model.pvalues)  \n",
        "#R squared values\n",
        "print(model.rsquared,model.rsquared_adj)\n"
      ],
      "execution_count": 65,
      "outputs": [
        {
          "output_type": "stream",
          "name": "stdout",
          "text": [
            "Intercept          16.660277\n",
            "YearsExperience    14.896252\n",
            "dtype: float64\n",
            "Intercept          12.811402\n",
            "YearsExperience    19.658772\n",
            "dtype: float64 \n",
            " Intercept          3.133760e-13\n",
            "YearsExperience    6.367642e-18\n",
            "dtype: float64\n",
            "0.9324434036761005 0.9300306680931041\n"
          ]
        },
        {
          "output_type": "display_data",
          "data": {
            "image/png": "[encoded data removed]",
            "text/plain": [
              "<Figure size 432x288 with 1 Axes>"
            ]
          },
          "metadata": {
            "needs_background": "light"
          }
        }
      ]
    },
    {
      "cell_type": "code",
      "metadata": {
        "id": "0_hjxsZKixGh"
      },
      "source": [
        "#Transforming data to log"
      ],
      "execution_count": 66,
      "outputs": []
    },
    {
      "cell_type": "code",
      "metadata": {
        "id": "2P88lyZRixGi"
      },
      "source": [
        "salary_df_log = np.log(salary_df)"
      ],
      "execution_count": 67,
      "outputs": []
    },
    {
      "cell_type": "code",
      "metadata": {
        "colab": {
          "base_uri": "https://localhost:8080/",
          "height": 206
        },
        "id": "OakUqpJmixGi",
        "outputId": "02d4f34c-3710-45d5-9572-8a0bfb15d3ff"
      },
      "source": [
        "salary_df_log.head()"
      ],
      "execution_count": 68,
      "outputs": [
        {
          "output_type": "execute_result",
          "data": {
            "text/html": [
              "<div>\n",
              "<style scoped>\n",
              "    .dataframe tbody tr th:only-of-type {\n",
              "        vertical-align: middle;\n",
              "    }\n",
              "\n",
              "    .dataframe tbody tr th {\n",
              "        vertical-align: top;\n",
              "    }\n",
              "\n",
              "    .dataframe thead th {\n",
              "        text-align: right;\n",
              "    }\n",
              "</style>\n",
              "<table border=\"1\" class=\"dataframe\">\n",
              "  <thead>\n",
              "    <tr style=\"text-align: right;\">\n",
              "      <th></th>\n",
              "      <th>YearsExperience</th>\n",
              "      <th>Salary</th>\n",
              "    </tr>\n",
              "  </thead>\n",
              "  <tbody>\n",
              "    <tr>\n",
              "      <th>0</th>\n",
              "      <td>0.095310</td>\n",
              "      <td>10.580073</td>\n",
              "    </tr>\n",
              "    <tr>\n",
              "      <th>1</th>\n",
              "      <td>0.262364</td>\n",
              "      <td>10.740843</td>\n",
              "    </tr>\n",
              "    <tr>\n",
              "      <th>2</th>\n",
              "      <td>0.405465</td>\n",
              "      <td>10.538237</td>\n",
              "    </tr>\n",
              "    <tr>\n",
              "      <th>3</th>\n",
              "      <td>0.693147</td>\n",
              "      <td>10.681091</td>\n",
              "    </tr>\n",
              "    <tr>\n",
              "      <th>4</th>\n",
              "      <td>0.788457</td>\n",
              "      <td>10.593906</td>\n",
              "    </tr>\n",
              "  </tbody>\n",
              "</table>\n",
              "</div>"
            ],
            "text/plain": [
              "   YearsExperience     Salary\n",
              "0         0.095310  10.580073\n",
              "1         0.262364  10.740843\n",
              "2         0.405465  10.538237\n",
              "3         0.693147  10.681091\n",
              "4         0.788457  10.593906"
            ]
          },
          "metadata": {},
          "execution_count": 68
        }
      ]
    },
    {
      "cell_type": "code",
      "metadata": {
        "colab": {
          "base_uri": "https://localhost:8080/",
          "height": 453
        },
        "id": "K537xhrfixGj",
        "outputId": "857ea6f1-b9a7-4847-ee17-a0f1087fb841"
      },
      "source": [
        "model = smf.ols(\"Salary~YearsExperience\",data = salary_df_log).fit()\n",
        "sns.regplot(x=\"YearsExperience\", y=\"Salary\", data=salary_df_log);\n",
        "\n",
        "#Coefficients\n",
        "print(model.params)\n",
        "#t and p-Values\n",
        "print(model.tvalues, '\\n', model.pvalues)  \n",
        "#R squared values\n",
        "print(model.rsquared,model.rsquared_adj)\n"
      ],
      "execution_count": 69,
      "outputs": [
        {
          "output_type": "stream",
          "name": "stdout",
          "text": [
            "Intercept          10.328043\n",
            "YearsExperience     0.562089\n",
            "dtype: float64\n",
            "Intercept          184.867959\n",
            "YearsExperience     16.352542\n",
            "dtype: float64 \n",
            " Intercept          9.073132e-45\n",
            "YearsExperience    7.395278e-16\n",
            "dtype: float64\n",
            "0.905215072581715 0.9018298966024905\n"
          ]
        },
        {
          "output_type": "display_data",
          "data": {
            "image/png": "[encoded data removed]",
            "text/plain": [
              "<Figure size 432x288 with 1 Axes>"
            ]
          },
          "metadata": {
            "needs_background": "light"
          }
        }
      ]
    },
    {
      "cell_type": "code",
      "metadata": {
        "id": "ce64Z5fDjWOi"
      },
      "source": [
        "#We will select salary_df as our best model prediction table as the r squared value is more when we do not perform any transformation."
      ],
      "execution_count": null,
      "outputs": []
    }
  ]
}