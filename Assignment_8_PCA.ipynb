{
  "nbformat": 4,
  "nbformat_minor": 0,
  "metadata": {
    "colab": {
      "name": "Assignment_8_PCA.ipynb",
      "provenance": [],
      "collapsed_sections": [],
      "include_colab_link": true
    },
    "kernelspec": {
      "name": "python3",
      "display_name": "Python 3"
    },
    "language_info": {
      "name": "python"
    }
  },
  "cells": [
    {
      "cell_type": "markdown",
      "metadata": {
        "id": "view-in-github",
        "colab_type": "text"
      },
      "source": [
        "<a href=\"https://colab.research.google.com/github/Sourav-Manik/Data-Science-Assignment/blob/main/Assignment_8_PCA.ipynb\" target=\"_parent\"><img src=\"https://colab.research.google.com/assets/colab-badge.svg\" alt=\"Open In Colab\"/></a>"
      ]
    },
    {
      "cell_type": "code",
      "execution_count": 1,
      "metadata": {
        "id": "vo-ZxAiJWmwb"
      },
      "outputs": [],
      "source": [
        "# importing libraries\n",
        "import scipy.cluster.hierarchy as sch\n",
        "from sklearn.cluster import AgglomerativeClustering\n",
        "import numpy as np\n",
        "import pandas as pd\n",
        "from matplotlib import pyplot as plt\n",
        "import seaborn as sn\n",
        "from sklearn.cluster import KMeans\n",
        "\n",
        "from sklearn.preprocessing import scale \n",
        "from sklearn.decomposition import PCA"
      ]
    },
    {
      "cell_type": "code",
      "source": [
        "df=pd.read_csv(\"/content/wine.csv\")\n",
        "df.head()"
      ],
      "metadata": {
        "colab": {
          "base_uri": "https://localhost:8080/",
          "height": 206
        },
        "id": "mcUwbDZYWv1A",
        "outputId": "59a0fc42-2a49-4781-e6e6-15280f515114"
      },
      "execution_count": 2,
      "outputs": [
        {
          "output_type": "execute_result",
          "data": {
            "text/html": [
              "\n",
              "  <div id=\"df-b73958d3-c6ba-4a3e-84fd-9ca7d082cbb3\">\n",
              "    <div class=\"colab-df-container\">\n",
              "      <div>\n",
              "<style scoped>\n",
              "    .dataframe tbody tr th:only-of-type {\n",
              "        vertical-align: middle;\n",
              "    }\n",
              "\n",
              "    .dataframe tbody tr th {\n",
              "        vertical-align: top;\n",
              "    }\n",
              "\n",
              "    .dataframe thead th {\n",
              "        text-align: right;\n",
              "    }\n",
              "</style>\n",
              "<table border=\"1\" class=\"dataframe\">\n",
              "  <thead>\n",
              "    <tr style=\"text-align: right;\">\n",
              "      <th></th>\n",
              "      <th>Type</th>\n",
              "      <th>Alcohol</th>\n",
              "      <th>Malic</th>\n",
              "      <th>Ash</th>\n",
              "      <th>Alcalinity</th>\n",
              "      <th>Magnesium</th>\n",
              "      <th>Phenols</th>\n",
              "      <th>Flavanoids</th>\n",
              "      <th>Nonflavanoids</th>\n",
              "      <th>Proanthocyanins</th>\n",
              "      <th>Color</th>\n",
              "      <th>Hue</th>\n",
              "      <th>Dilution</th>\n",
              "      <th>Proline</th>\n",
              "    </tr>\n",
              "  </thead>\n",
              "  <tbody>\n",
              "    <tr>\n",
              "      <th>0</th>\n",
              "      <td>1</td>\n",
              "      <td>14.23</td>\n",
              "      <td>1.71</td>\n",
              "      <td>2.43</td>\n",
              "      <td>15.6</td>\n",
              "      <td>127</td>\n",
              "      <td>2.80</td>\n",
              "      <td>3.06</td>\n",
              "      <td>0.28</td>\n",
              "      <td>2.29</td>\n",
              "      <td>5.64</td>\n",
              "      <td>1.04</td>\n",
              "      <td>3.92</td>\n",
              "      <td>1065</td>\n",
              "    </tr>\n",
              "    <tr>\n",
              "      <th>1</th>\n",
              "      <td>1</td>\n",
              "      <td>13.20</td>\n",
              "      <td>1.78</td>\n",
              "      <td>2.14</td>\n",
              "      <td>11.2</td>\n",
              "      <td>100</td>\n",
              "      <td>2.65</td>\n",
              "      <td>2.76</td>\n",
              "      <td>0.26</td>\n",
              "      <td>1.28</td>\n",
              "      <td>4.38</td>\n",
              "      <td>1.05</td>\n",
              "      <td>3.40</td>\n",
              "      <td>1050</td>\n",
              "    </tr>\n",
              "    <tr>\n",
              "      <th>2</th>\n",
              "      <td>1</td>\n",
              "      <td>13.16</td>\n",
              "      <td>2.36</td>\n",
              "      <td>2.67</td>\n",
              "      <td>18.6</td>\n",
              "      <td>101</td>\n",
              "      <td>2.80</td>\n",
              "      <td>3.24</td>\n",
              "      <td>0.30</td>\n",
              "      <td>2.81</td>\n",
              "      <td>5.68</td>\n",
              "      <td>1.03</td>\n",
              "      <td>3.17</td>\n",
              "      <td>1185</td>\n",
              "    </tr>\n",
              "    <tr>\n",
              "      <th>3</th>\n",
              "      <td>1</td>\n",
              "      <td>14.37</td>\n",
              "      <td>1.95</td>\n",
              "      <td>2.50</td>\n",
              "      <td>16.8</td>\n",
              "      <td>113</td>\n",
              "      <td>3.85</td>\n",
              "      <td>3.49</td>\n",
              "      <td>0.24</td>\n",
              "      <td>2.18</td>\n",
              "      <td>7.80</td>\n",
              "      <td>0.86</td>\n",
              "      <td>3.45</td>\n",
              "      <td>1480</td>\n",
              "    </tr>\n",
              "    <tr>\n",
              "      <th>4</th>\n",
              "      <td>1</td>\n",
              "      <td>13.24</td>\n",
              "      <td>2.59</td>\n",
              "      <td>2.87</td>\n",
              "      <td>21.0</td>\n",
              "      <td>118</td>\n",
              "      <td>2.80</td>\n",
              "      <td>2.69</td>\n",
              "      <td>0.39</td>\n",
              "      <td>1.82</td>\n",
              "      <td>4.32</td>\n",
              "      <td>1.04</td>\n",
              "      <td>2.93</td>\n",
              "      <td>735</td>\n",
              "    </tr>\n",
              "  </tbody>\n",
              "</table>\n",
              "</div>\n",
              "      <button class=\"colab-df-convert\" onclick=\"convertToInteractive('df-b73958d3-c6ba-4a3e-84fd-9ca7d082cbb3')\"\n",
              "              title=\"Convert this dataframe to an interactive table.\"\n",
              "              style=\"display:none;\">\n",
              "        \n",
              "  <svg xmlns=\"http://www.w3.org/2000/svg\" height=\"24px\"viewBox=\"0 0 24 24\"\n",
              "       width=\"24px\">\n",
              "    <path d=\"M0 0h24v24H0V0z\" fill=\"none\"/>\n",
              "    <path d=\"M18.56 5.44l.94 2.06.94-2.06 2.06-.94-2.06-.94-.94-2.06-.94 2.06-2.06.94zm-11 1L8.5 8.5l.94-2.06 2.06-.94-2.06-.94L8.5 2.5l-.94 2.06-2.06.94zm10 10l.94 2.06.94-2.06 2.06-.94-2.06-.94-.94-2.06-.94 2.06-2.06.94z\"/><path d=\"M17.41 7.96l-1.37-1.37c-.4-.4-.92-.59-1.43-.59-.52 0-1.04.2-1.43.59L10.3 9.45l-7.72 7.72c-.78.78-.78 2.05 0 2.83L4 21.41c.39.39.9.59 1.41.59.51 0 1.02-.2 1.41-.59l7.78-7.78 2.81-2.81c.8-.78.8-2.07 0-2.86zM5.41 20L4 18.59l7.72-7.72 1.47 1.35L5.41 20z\"/>\n",
              "  </svg>\n",
              "      </button>\n",
              "      \n",
              "  <style>\n",
              "    .colab-df-container {\n",
              "      display:flex;\n",
              "      flex-wrap:wrap;\n",
              "      gap: 12px;\n",
              "    }\n",
              "\n",
              "    .colab-df-convert {\n",
              "      background-color: #E8F0FE;\n",
              "      border: none;\n",
              "      border-radius: 50%;\n",
              "      cursor: pointer;\n",
              "      display: none;\n",
              "      fill: #1967D2;\n",
              "      height: 32px;\n",
              "      padding: 0 0 0 0;\n",
              "      width: 32px;\n",
              "    }\n",
              "\n",
              "    .colab-df-convert:hover {\n",
              "      background-color: #E2EBFA;\n",
              "      box-shadow: 0px 1px 2px rgba(60, 64, 67, 0.3), 0px 1px 3px 1px rgba(60, 64, 67, 0.15);\n",
              "      fill: #174EA6;\n",
              "    }\n",
              "\n",
              "    [theme=dark] .colab-df-convert {\n",
              "      background-color: #3B4455;\n",
              "      fill: #D2E3FC;\n",
              "    }\n",
              "\n",
              "    [theme=dark] .colab-df-convert:hover {\n",
              "      background-color: #434B5C;\n",
              "      box-shadow: 0px 1px 3px 1px rgba(0, 0, 0, 0.15);\n",
              "      filter: drop-shadow(0px 1px 2px rgba(0, 0, 0, 0.3));\n",
              "      fill: #FFFFFF;\n",
              "    }\n",
              "  </style>\n",
              "\n",
              "      <script>\n",
              "        const buttonEl =\n",
              "          document.querySelector('#df-b73958d3-c6ba-4a3e-84fd-9ca7d082cbb3 button.colab-df-convert');\n",
              "        buttonEl.style.display =\n",
              "          google.colab.kernel.accessAllowed ? 'block' : 'none';\n",
              "\n",
              "        async function convertToInteractive(key) {\n",
              "          const element = document.querySelector('#df-b73958d3-c6ba-4a3e-84fd-9ca7d082cbb3');\n",
              "          const dataTable =\n",
              "            await google.colab.kernel.invokeFunction('convertToInteractive',\n",
              "                                                     [key], {});\n",
              "          if (!dataTable) return;\n",
              "\n",
              "          const docLinkHtml = 'Like what you see? Visit the ' +\n",
              "            '<a target=\"_blank\" href=https://colab.research.google.com/notebooks/data_table.ipynb>data table notebook</a>'\n",
              "            + ' to learn more about interactive tables.';\n",
              "          element.innerHTML = '';\n",
              "          dataTable['output_type'] = 'display_data';\n",
              "          await google.colab.output.renderOutput(dataTable, element);\n",
              "          const docLink = document.createElement('div');\n",
              "          docLink.innerHTML = docLinkHtml;\n",
              "          element.appendChild(docLink);\n",
              "        }\n",
              "      </script>\n",
              "    </div>\n",
              "  </div>\n",
              "  "
            ],
            "text/plain": [
              "   Type  Alcohol  Malic   Ash  ...  Color   Hue  Dilution  Proline\n",
              "0     1    14.23   1.71  2.43  ...   5.64  1.04      3.92     1065\n",
              "1     1    13.20   1.78  2.14  ...   4.38  1.05      3.40     1050\n",
              "2     1    13.16   2.36  2.67  ...   5.68  1.03      3.17     1185\n",
              "3     1    14.37   1.95  2.50  ...   7.80  0.86      3.45     1480\n",
              "4     1    13.24   2.59  2.87  ...   4.32  1.04      2.93      735\n",
              "\n",
              "[5 rows x 14 columns]"
            ]
          },
          "metadata": {},
          "execution_count": 2
        }
      ]
    },
    {
      "cell_type": "code",
      "source": [
        "# Considering only numerical data \n",
        "df.data = df.iloc[:,1:]\n",
        "df.data.head()"
      ],
      "metadata": {
        "colab": {
          "base_uri": "https://localhost:8080/",
          "height": 261
        },
        "id": "TKkdewPrXN3E",
        "outputId": "e0f31eae-f46c-4bea-98b9-648dfb96d9cf"
      },
      "execution_count": 3,
      "outputs": [
        {
          "output_type": "stream",
          "name": "stderr",
          "text": [
            "/usr/local/lib/python3.7/dist-packages/ipykernel_launcher.py:2: UserWarning: Pandas doesn't allow columns to be created via a new attribute name - see https://pandas.pydata.org/pandas-docs/stable/indexing.html#attribute-access\n",
            "  \n"
          ]
        },
        {
          "output_type": "execute_result",
          "data": {
            "text/html": [
              "\n",
              "  <div id=\"df-4f28c0fc-d5e1-4d11-83ce-fa35592a4c44\">\n",
              "    <div class=\"colab-df-container\">\n",
              "      <div>\n",
              "<style scoped>\n",
              "    .dataframe tbody tr th:only-of-type {\n",
              "        vertical-align: middle;\n",
              "    }\n",
              "\n",
              "    .dataframe tbody tr th {\n",
              "        vertical-align: top;\n",
              "    }\n",
              "\n",
              "    .dataframe thead th {\n",
              "        text-align: right;\n",
              "    }\n",
              "</style>\n",
              "<table border=\"1\" class=\"dataframe\">\n",
              "  <thead>\n",
              "    <tr style=\"text-align: right;\">\n",
              "      <th></th>\n",
              "      <th>Alcohol</th>\n",
              "      <th>Malic</th>\n",
              "      <th>Ash</th>\n",
              "      <th>Alcalinity</th>\n",
              "      <th>Magnesium</th>\n",
              "      <th>Phenols</th>\n",
              "      <th>Flavanoids</th>\n",
              "      <th>Nonflavanoids</th>\n",
              "      <th>Proanthocyanins</th>\n",
              "      <th>Color</th>\n",
              "      <th>Hue</th>\n",
              "      <th>Dilution</th>\n",
              "      <th>Proline</th>\n",
              "    </tr>\n",
              "  </thead>\n",
              "  <tbody>\n",
              "    <tr>\n",
              "      <th>0</th>\n",
              "      <td>14.23</td>\n",
              "      <td>1.71</td>\n",
              "      <td>2.43</td>\n",
              "      <td>15.6</td>\n",
              "      <td>127</td>\n",
              "      <td>2.80</td>\n",
              "      <td>3.06</td>\n",
              "      <td>0.28</td>\n",
              "      <td>2.29</td>\n",
              "      <td>5.64</td>\n",
              "      <td>1.04</td>\n",
              "      <td>3.92</td>\n",
              "      <td>1065</td>\n",
              "    </tr>\n",
              "    <tr>\n",
              "      <th>1</th>\n",
              "      <td>13.20</td>\n",
              "      <td>1.78</td>\n",
              "      <td>2.14</td>\n",
              "      <td>11.2</td>\n",
              "      <td>100</td>\n",
              "      <td>2.65</td>\n",
              "      <td>2.76</td>\n",
              "      <td>0.26</td>\n",
              "      <td>1.28</td>\n",
              "      <td>4.38</td>\n",
              "      <td>1.05</td>\n",
              "      <td>3.40</td>\n",
              "      <td>1050</td>\n",
              "    </tr>\n",
              "    <tr>\n",
              "      <th>2</th>\n",
              "      <td>13.16</td>\n",
              "      <td>2.36</td>\n",
              "      <td>2.67</td>\n",
              "      <td>18.6</td>\n",
              "      <td>101</td>\n",
              "      <td>2.80</td>\n",
              "      <td>3.24</td>\n",
              "      <td>0.30</td>\n",
              "      <td>2.81</td>\n",
              "      <td>5.68</td>\n",
              "      <td>1.03</td>\n",
              "      <td>3.17</td>\n",
              "      <td>1185</td>\n",
              "    </tr>\n",
              "    <tr>\n",
              "      <th>3</th>\n",
              "      <td>14.37</td>\n",
              "      <td>1.95</td>\n",
              "      <td>2.50</td>\n",
              "      <td>16.8</td>\n",
              "      <td>113</td>\n",
              "      <td>3.85</td>\n",
              "      <td>3.49</td>\n",
              "      <td>0.24</td>\n",
              "      <td>2.18</td>\n",
              "      <td>7.80</td>\n",
              "      <td>0.86</td>\n",
              "      <td>3.45</td>\n",
              "      <td>1480</td>\n",
              "    </tr>\n",
              "    <tr>\n",
              "      <th>4</th>\n",
              "      <td>13.24</td>\n",
              "      <td>2.59</td>\n",
              "      <td>2.87</td>\n",
              "      <td>21.0</td>\n",
              "      <td>118</td>\n",
              "      <td>2.80</td>\n",
              "      <td>2.69</td>\n",
              "      <td>0.39</td>\n",
              "      <td>1.82</td>\n",
              "      <td>4.32</td>\n",
              "      <td>1.04</td>\n",
              "      <td>2.93</td>\n",
              "      <td>735</td>\n",
              "    </tr>\n",
              "  </tbody>\n",
              "</table>\n",
              "</div>\n",
              "      <button class=\"colab-df-convert\" onclick=\"convertToInteractive('df-4f28c0fc-d5e1-4d11-83ce-fa35592a4c44')\"\n",
              "              title=\"Convert this dataframe to an interactive table.\"\n",
              "              style=\"display:none;\">\n",
              "        \n",
              "  <svg xmlns=\"http://www.w3.org/2000/svg\" height=\"24px\"viewBox=\"0 0 24 24\"\n",
              "       width=\"24px\">\n",
              "    <path d=\"M0 0h24v24H0V0z\" fill=\"none\"/>\n",
              "    <path d=\"M18.56 5.44l.94 2.06.94-2.06 2.06-.94-2.06-.94-.94-2.06-.94 2.06-2.06.94zm-11 1L8.5 8.5l.94-2.06 2.06-.94-2.06-.94L8.5 2.5l-.94 2.06-2.06.94zm10 10l.94 2.06.94-2.06 2.06-.94-2.06-.94-.94-2.06-.94 2.06-2.06.94z\"/><path d=\"M17.41 7.96l-1.37-1.37c-.4-.4-.92-.59-1.43-.59-.52 0-1.04.2-1.43.59L10.3 9.45l-7.72 7.72c-.78.78-.78 2.05 0 2.83L4 21.41c.39.39.9.59 1.41.59.51 0 1.02-.2 1.41-.59l7.78-7.78 2.81-2.81c.8-.78.8-2.07 0-2.86zM5.41 20L4 18.59l7.72-7.72 1.47 1.35L5.41 20z\"/>\n",
              "  </svg>\n",
              "      </button>\n",
              "      \n",
              "  <style>\n",
              "    .colab-df-container {\n",
              "      display:flex;\n",
              "      flex-wrap:wrap;\n",
              "      gap: 12px;\n",
              "    }\n",
              "\n",
              "    .colab-df-convert {\n",
              "      background-color: #E8F0FE;\n",
              "      border: none;\n",
              "      border-radius: 50%;\n",
              "      cursor: pointer;\n",
              "      display: none;\n",
              "      fill: #1967D2;\n",
              "      height: 32px;\n",
              "      padding: 0 0 0 0;\n",
              "      width: 32px;\n",
              "    }\n",
              "\n",
              "    .colab-df-convert:hover {\n",
              "      background-color: #E2EBFA;\n",
              "      box-shadow: 0px 1px 2px rgba(60, 64, 67, 0.3), 0px 1px 3px 1px rgba(60, 64, 67, 0.15);\n",
              "      fill: #174EA6;\n",
              "    }\n",
              "\n",
              "    [theme=dark] .colab-df-convert {\n",
              "      background-color: #3B4455;\n",
              "      fill: #D2E3FC;\n",
              "    }\n",
              "\n",
              "    [theme=dark] .colab-df-convert:hover {\n",
              "      background-color: #434B5C;\n",
              "      box-shadow: 0px 1px 3px 1px rgba(0, 0, 0, 0.15);\n",
              "      filter: drop-shadow(0px 1px 2px rgba(0, 0, 0, 0.3));\n",
              "      fill: #FFFFFF;\n",
              "    }\n",
              "  </style>\n",
              "\n",
              "      <script>\n",
              "        const buttonEl =\n",
              "          document.querySelector('#df-4f28c0fc-d5e1-4d11-83ce-fa35592a4c44 button.colab-df-convert');\n",
              "        buttonEl.style.display =\n",
              "          google.colab.kernel.accessAllowed ? 'block' : 'none';\n",
              "\n",
              "        async function convertToInteractive(key) {\n",
              "          const element = document.querySelector('#df-4f28c0fc-d5e1-4d11-83ce-fa35592a4c44');\n",
              "          const dataTable =\n",
              "            await google.colab.kernel.invokeFunction('convertToInteractive',\n",
              "                                                     [key], {});\n",
              "          if (!dataTable) return;\n",
              "\n",
              "          const docLinkHtml = 'Like what you see? Visit the ' +\n",
              "            '<a target=\"_blank\" href=https://colab.research.google.com/notebooks/data_table.ipynb>data table notebook</a>'\n",
              "            + ' to learn more about interactive tables.';\n",
              "          element.innerHTML = '';\n",
              "          dataTable['output_type'] = 'display_data';\n",
              "          await google.colab.output.renderOutput(dataTable, element);\n",
              "          const docLink = document.createElement('div');\n",
              "          docLink.innerHTML = docLinkHtml;\n",
              "          element.appendChild(docLink);\n",
              "        }\n",
              "      </script>\n",
              "    </div>\n",
              "  </div>\n",
              "  "
            ],
            "text/plain": [
              "   Alcohol  Malic   Ash  Alcalinity  ...  Color   Hue  Dilution  Proline\n",
              "0    14.23   1.71  2.43        15.6  ...   5.64  1.04      3.92     1065\n",
              "1    13.20   1.78  2.14        11.2  ...   4.38  1.05      3.40     1050\n",
              "2    13.16   2.36  2.67        18.6  ...   5.68  1.03      3.17     1185\n",
              "3    14.37   1.95  2.50        16.8  ...   7.80  0.86      3.45     1480\n",
              "4    13.24   2.59  2.87        21.0  ...   4.32  1.04      2.93      735\n",
              "\n",
              "[5 rows x 13 columns]"
            ]
          },
          "metadata": {},
          "execution_count": 3
        }
      ]
    },
    {
      "cell_type": "code",
      "source": [
        "# Converting into numpy array\n",
        "df_array = df.data.values\n",
        "df_array"
      ],
      "metadata": {
        "colab": {
          "base_uri": "https://localhost:8080/"
        },
        "id": "Ddy9Ut31XlIZ",
        "outputId": "6fadf234-251a-4779-c279-f51972818a29"
      },
      "execution_count": 4,
      "outputs": [
        {
          "output_type": "execute_result",
          "data": {
            "text/plain": [
              "array([[1.423e+01, 1.710e+00, 2.430e+00, ..., 1.040e+00, 3.920e+00,\n",
              "        1.065e+03],\n",
              "       [1.320e+01, 1.780e+00, 2.140e+00, ..., 1.050e+00, 3.400e+00,\n",
              "        1.050e+03],\n",
              "       [1.316e+01, 2.360e+00, 2.670e+00, ..., 1.030e+00, 3.170e+00,\n",
              "        1.185e+03],\n",
              "       ...,\n",
              "       [1.327e+01, 4.280e+00, 2.260e+00, ..., 5.900e-01, 1.560e+00,\n",
              "        8.350e+02],\n",
              "       [1.317e+01, 2.590e+00, 2.370e+00, ..., 6.000e-01, 1.620e+00,\n",
              "        8.400e+02],\n",
              "       [1.413e+01, 4.100e+00, 2.740e+00, ..., 6.100e-01, 1.600e+00,\n",
              "        5.600e+02]])"
            ]
          },
          "metadata": {},
          "execution_count": 4
        }
      ]
    },
    {
      "cell_type": "code",
      "execution_count": 5,
      "metadata": {
        "id": "VSUBEjXOlmCW"
      },
      "outputs": [],
      "source": [
        "# Normalizing the numerical data \n",
        "df_normal = scale(df_array)"
      ]
    },
    {
      "cell_type": "code",
      "execution_count": 6,
      "metadata": {
        "colab": {
          "base_uri": "https://localhost:8080/"
        },
        "id": "CfeKjb5AlmCX",
        "outputId": "757381ea-c06e-42e4-9e79-8d02f03137a4"
      },
      "outputs": [
        {
          "output_type": "execute_result",
          "data": {
            "text/plain": [
              "array([[ 1.51861254, -0.5622498 ,  0.23205254, ...,  0.36217728,\n",
              "         1.84791957,  1.01300893],\n",
              "       [ 0.24628963, -0.49941338, -0.82799632, ...,  0.40605066,\n",
              "         1.1134493 ,  0.96524152],\n",
              "       [ 0.19687903,  0.02123125,  1.10933436, ...,  0.31830389,\n",
              "         0.78858745,  1.39514818],\n",
              "       ...,\n",
              "       [ 0.33275817,  1.74474449, -0.38935541, ..., -1.61212515,\n",
              "        -1.48544548,  0.28057537],\n",
              "       [ 0.20923168,  0.22769377,  0.01273209, ..., -1.56825176,\n",
              "        -1.40069891,  0.29649784],\n",
              "       [ 1.39508604,  1.58316512,  1.36520822, ..., -1.52437837,\n",
              "        -1.42894777, -0.59516041]])"
            ]
          },
          "metadata": {},
          "execution_count": 6
        }
      ],
      "source": [
        "df_normal"
      ]
    },
    {
      "cell_type": "code",
      "execution_count": 7,
      "metadata": {
        "id": "-L0aNI7BlmCY"
      },
      "outputs": [],
      "source": [
        "pca = PCA()\n",
        "pca_values = pca.fit_transform(df_normal)"
      ]
    },
    {
      "cell_type": "code",
      "execution_count": 8,
      "metadata": {
        "colab": {
          "base_uri": "https://localhost:8080/"
        },
        "id": "_idWMqyglmCY",
        "outputId": "0ee21877-fe69-4a86-cca0-04ddb3bc8c33"
      },
      "outputs": [
        {
          "output_type": "execute_result",
          "data": {
            "text/plain": [
              "array([[ 3.31675081e+00, -1.44346263e+00, -1.65739045e-01, ...,\n",
              "        -4.51563395e-01,  5.40810414e-01, -6.62386309e-02],\n",
              "       [ 2.20946492e+00,  3.33392887e-01, -2.02645737e+00, ...,\n",
              "        -1.42657306e-01,  3.88237741e-01,  3.63650247e-03],\n",
              "       [ 2.51674015e+00, -1.03115130e+00,  9.82818670e-01, ...,\n",
              "        -2.86672847e-01,  5.83573183e-04,  2.17165104e-02],\n",
              "       ...,\n",
              "       [-2.67783946e+00, -2.76089913e+00, -9.40941877e-01, ...,\n",
              "         5.12492025e-01,  6.98766451e-01,  7.20776948e-02],\n",
              "       [-2.38701709e+00, -2.29734668e+00, -5.50696197e-01, ...,\n",
              "         2.99821968e-01,  3.39820654e-01, -2.18657605e-02],\n",
              "       [-3.20875816e+00, -2.76891957e+00,  1.01391366e+00, ...,\n",
              "        -2.29964331e-01, -1.88787963e-01, -3.23964720e-01]])"
            ]
          },
          "metadata": {},
          "execution_count": 8
        }
      ],
      "source": [
        "pca_values"
      ]
    },
    {
      "cell_type": "code",
      "execution_count": 9,
      "metadata": {
        "colab": {
          "base_uri": "https://localhost:8080/"
        },
        "id": "LY-vFPNzlmCZ",
        "outputId": "0442cfc2-6db7-4a4e-fbc2-9337e6ce415c"
      },
      "outputs": [
        {
          "output_type": "execute_result",
          "data": {
            "text/plain": [
              "array([[ 3.31675081e+00, -1.44346263e+00, -1.65739045e-01, ...,\n",
              "        -4.51563395e-01,  5.40810414e-01, -6.62386309e-02],\n",
              "       [ 2.20946492e+00,  3.33392887e-01, -2.02645737e+00, ...,\n",
              "        -1.42657306e-01,  3.88237741e-01,  3.63650247e-03],\n",
              "       [ 2.51674015e+00, -1.03115130e+00,  9.82818670e-01, ...,\n",
              "        -2.86672847e-01,  5.83573183e-04,  2.17165104e-02],\n",
              "       ...,\n",
              "       [-2.67783946e+00, -2.76089913e+00, -9.40941877e-01, ...,\n",
              "         5.12492025e-01,  6.98766451e-01,  7.20776948e-02],\n",
              "       [-2.38701709e+00, -2.29734668e+00, -5.50696197e-01, ...,\n",
              "         2.99821968e-01,  3.39820654e-01, -2.18657605e-02],\n",
              "       [-3.20875816e+00, -2.76891957e+00,  1.01391366e+00, ...,\n",
              "        -2.29964331e-01, -1.88787963e-01, -3.23964720e-01]])"
            ]
          },
          "metadata": {},
          "execution_count": 9
        }
      ],
      "source": [
        "pca = PCA(n_components = 13)\n",
        "pca_values = pca.fit_transform(df_normal)\n",
        "pca_values"
      ]
    },
    {
      "cell_type": "code",
      "execution_count": 10,
      "metadata": {
        "colab": {
          "base_uri": "https://localhost:8080/"
        },
        "id": "h3xka2IilmCa",
        "outputId": "4641c45b-c158-4d2b-9a08-f4a478d9fcae"
      },
      "outputs": [
        {
          "output_type": "execute_result",
          "data": {
            "text/plain": [
              "array([0.36198848, 0.1920749 , 0.11123631, 0.0706903 , 0.06563294,\n",
              "       0.04935823, 0.04238679, 0.02680749, 0.02222153, 0.01930019,\n",
              "       0.01736836, 0.01298233, 0.00795215])"
            ]
          },
          "metadata": {},
          "execution_count": 10
        }
      ],
      "source": [
        "# The amount of variance that each PCA explains is \n",
        "var = pca.explained_variance_ratio_\n",
        "var"
      ]
    },
    {
      "cell_type": "code",
      "execution_count": 11,
      "metadata": {
        "colab": {
          "base_uri": "https://localhost:8080/"
        },
        "id": "kMVSL2H8lmCc",
        "outputId": "acfebae5-5b4b-47bb-8ece-7f1fb0736244"
      },
      "outputs": [
        {
          "output_type": "execute_result",
          "data": {
            "text/plain": [
              "array([ 36.2 ,  55.41,  66.53,  73.6 ,  80.16,  85.1 ,  89.34,  92.02,\n",
              "        94.24,  96.17,  97.91,  99.21, 100.01])"
            ]
          },
          "metadata": {},
          "execution_count": 11
        }
      ],
      "source": [
        "# Cumulative variance \n",
        "var1 = np.cumsum(np.round(var,decimals = 4)*100)\n",
        "var1"
      ]
    },
    {
      "cell_type": "code",
      "execution_count": 12,
      "metadata": {
        "colab": {
          "base_uri": "https://localhost:8080/"
        },
        "id": "B7yq0HYrlmCd",
        "outputId": "5f97ec0a-e8dd-4495-f096-519e83264ca2"
      },
      "outputs": [
        {
          "output_type": "execute_result",
          "data": {
            "text/plain": [
              "array([[ 0.1443294 , -0.24518758, -0.00205106, -0.23932041,  0.14199204,\n",
              "         0.39466085,  0.4229343 , -0.2985331 ,  0.31342949, -0.0886167 ,\n",
              "         0.29671456,  0.37616741,  0.28675223],\n",
              "       [-0.48365155, -0.22493093, -0.31606881,  0.0105905 , -0.299634  ,\n",
              "        -0.06503951,  0.00335981, -0.02877949, -0.03930172, -0.52999567,\n",
              "         0.27923515,  0.16449619, -0.36490283],\n",
              "       [-0.20738262,  0.08901289,  0.6262239 ,  0.61208035,  0.13075693,\n",
              "         0.14617896,  0.1506819 ,  0.17036816,  0.14945431, -0.13730621,\n",
              "         0.08522192,  0.16600459, -0.12674592],\n",
              "       [-0.0178563 ,  0.53689028, -0.21417556,  0.06085941, -0.35179658,\n",
              "         0.19806835,  0.15229479, -0.20330102,  0.39905653,  0.06592568,\n",
              "        -0.42777141,  0.18412074, -0.23207086],\n",
              "       [-0.26566365,  0.03521363, -0.14302547,  0.06610294,  0.72704851,\n",
              "        -0.14931841, -0.10902584, -0.50070298,  0.13685982, -0.07643678,\n",
              "        -0.17361452, -0.10116099, -0.1578688 ],\n",
              "       [-0.21353865, -0.53681385, -0.15447466,  0.10082451, -0.03814394,\n",
              "         0.0841223 ,  0.01892002,  0.25859401,  0.53379539,  0.41864414,\n",
              "        -0.10598274, -0.26585107, -0.11972557],\n",
              "       [-0.05639636,  0.42052391, -0.14917061, -0.28696914,  0.3228833 ,\n",
              "        -0.02792498, -0.06068521,  0.59544729,  0.37213935, -0.22771214,\n",
              "         0.23207564, -0.0447637 ,  0.0768045 ],\n",
              "       [-0.39613926, -0.06582674,  0.17026002, -0.42797018,  0.15636143,\n",
              "         0.40593409,  0.18724536,  0.23328465, -0.36822675,  0.03379692,\n",
              "        -0.43662362,  0.07810789, -0.12002267],\n",
              "       [ 0.50861912, -0.07528304, -0.30769445,  0.20044931,  0.27140257,\n",
              "         0.28603452,  0.04957849,  0.19550132, -0.20914487,  0.05621752,\n",
              "         0.08582839,  0.1372269 , -0.57578611],\n",
              "       [ 0.21160473, -0.30907994, -0.02712539,  0.05279942,  0.06787022,\n",
              "        -0.32013135, -0.16315051,  0.21553507,  0.1341839 , -0.29077518,\n",
              "        -0.52239889,  0.52370587,  0.162116  ],\n",
              "       [-0.22591696,  0.07648554, -0.49869142,  0.47931378,  0.07128891,\n",
              "         0.30434119, -0.02569409,  0.11689586, -0.23736257,  0.0318388 ,\n",
              "        -0.04821201,  0.0464233 ,  0.53926983],\n",
              "       [-0.26628645,  0.12169604, -0.04962237, -0.05574287,  0.06222011,\n",
              "        -0.30388245, -0.04289883,  0.04235219, -0.09555303,  0.60422163,\n",
              "         0.259214  ,  0.60095872, -0.07940162],\n",
              "       [ 0.01496997,  0.02596375, -0.14121803,  0.09168285,  0.05677422,\n",
              "        -0.46390791,  0.83225706,  0.11403985, -0.11691707, -0.0119928 ,\n",
              "        -0.08988884, -0.15671813,  0.01444734]])"
            ]
          },
          "metadata": {},
          "execution_count": 12
        }
      ],
      "source": [
        "pca.components_ #egien vectors"
      ]
    },
    {
      "cell_type": "code",
      "execution_count": 13,
      "metadata": {
        "colab": {
          "base_uri": "https://localhost:8080/",
          "height": 282
        },
        "id": "tfKRIQ5IlmCd",
        "outputId": "0e101cd9-093c-41fe-d60d-013311d0f094"
      },
      "outputs": [
        {
          "output_type": "execute_result",
          "data": {
            "text/plain": [
              "[<matplotlib.lines.Line2D at 0x7f2f6a727910>]"
            ]
          },
          "metadata": {},
          "execution_count": 13
        },
        {
          "output_type": "display_data",
          "data": {
            "image/png": "[encoded data removed]",
            "text/plain": [
              "<Figure size 432x288 with 1 Axes>"
            ]
          },
          "metadata": {
            "needs_background": "light"
          }
        }
      ],
      "source": [
        "# Variance plot for PCA components obtained \n",
        "plt.plot(var1,color=\"red\")"
      ]
    },
    {
      "cell_type": "code",
      "execution_count": 14,
      "metadata": {
        "colab": {
          "base_uri": "https://localhost:8080/"
        },
        "id": "uGwJt_QKlmCe",
        "outputId": "66235cf1-8b76-4ee2-83f6-7c17e7322b4d"
      },
      "outputs": [
        {
          "output_type": "execute_result",
          "data": {
            "text/plain": [
              "array([[ 3.31675081],\n",
              "       [ 2.20946492],\n",
              "       [ 2.51674015],\n",
              "       [ 3.75706561],\n",
              "       [ 1.00890849],\n",
              "       [ 3.05025392],\n",
              "       [ 2.44908967],\n",
              "       [ 2.05943687],\n",
              "       [ 2.5108743 ],\n",
              "       [ 2.75362819],\n",
              "       [ 3.47973668],\n",
              "       [ 1.7547529 ],\n",
              "       [ 2.11346234],\n",
              "       [ 3.45815682],\n",
              "       [ 4.31278391],\n",
              "       [ 2.3051882 ],\n",
              "       [ 2.17195527],\n",
              "       [ 1.89897118],\n",
              "       [ 3.54198508],\n",
              "       [ 2.0845222 ],\n",
              "       [ 3.12440254],\n",
              "       [ 1.08657007],\n",
              "       [ 2.53522408],\n",
              "       [ 1.64498834],\n",
              "       [ 1.76157587],\n",
              "       [ 0.9900791 ],\n",
              "       [ 1.77527763],\n",
              "       [ 1.23542396],\n",
              "       [ 2.18840633],\n",
              "       [ 2.25610898],\n",
              "       [ 2.50022003],\n",
              "       [ 2.67741105],\n",
              "       [ 1.62857912],\n",
              "       [ 1.90269086],\n",
              "       [ 1.41038853],\n",
              "       [ 1.90382623],\n",
              "       [ 1.38486223],\n",
              "       [ 1.12220741],\n",
              "       [ 1.5021945 ],\n",
              "       [ 2.52980109],\n",
              "       [ 2.58809543],\n",
              "       [ 0.66848199],\n",
              "       [ 3.07080699],\n",
              "       [ 0.46220914],\n",
              "       [ 2.10135193],\n",
              "       [ 1.13616618],\n",
              "       [ 2.72660096],\n",
              "       [ 2.82133927],\n",
              "       [ 2.00985085],\n",
              "       [ 2.7074913 ],\n",
              "       [ 3.21491747],\n",
              "       [ 2.85895983],\n",
              "       [ 3.50560436],\n",
              "       [ 2.22479138],\n",
              "       [ 2.14698782],\n",
              "       [ 2.46932948],\n",
              "       [ 2.74151791],\n",
              "       [ 2.17374092],\n",
              "       [ 3.13938015],\n",
              "       [-0.92858197],\n",
              "       [-1.54248014],\n",
              "       [-1.83624976],\n",
              "       [ 0.03060683],\n",
              "       [ 2.05026161],\n",
              "       [-0.60968083],\n",
              "       [ 0.90022784],\n",
              "       [ 2.24850719],\n",
              "       [ 0.18338403],\n",
              "       [-0.81280503],\n",
              "       [ 1.9756205 ],\n",
              "       [-1.57221622],\n",
              "       [ 1.65768181],\n",
              "       [-0.72537239],\n",
              "       [ 2.56222717],\n",
              "       [ 1.83256757],\n",
              "       [-0.8679929 ],\n",
              "       [ 0.3700144 ],\n",
              "       [-1.45737704],\n",
              "       [ 1.26293085],\n",
              "       [ 0.37615037],\n",
              "       [ 0.7620639 ],\n",
              "       [ 1.03457797],\n",
              "       [-0.49487676],\n",
              "       [-2.53897708],\n",
              "       [ 0.83532015],\n",
              "       [ 0.78790461],\n",
              "       [-0.80683216],\n",
              "       [-0.55804262],\n",
              "       [-1.11511104],\n",
              "       [-0.55572283],\n",
              "       [-1.34928528],\n",
              "       [-1.56448261],\n",
              "       [-1.93255561],\n",
              "       [ 0.74666594],\n",
              "       [ 0.95745536],\n",
              "       [ 2.54386518],\n",
              "       [-0.54395259],\n",
              "       [ 1.03104975],\n",
              "       [ 2.25190942],\n",
              "       [ 1.41021602],\n",
              "       [ 0.79771979],\n",
              "       [-0.54953173],\n",
              "       [-0.16117374],\n",
              "       [-0.65979494],\n",
              "       [ 0.39235441],\n",
              "       [-1.77249908],\n",
              "       [-0.36626736],\n",
              "       [-1.62067257],\n",
              "       [ 0.08253578],\n",
              "       [ 1.57827507],\n",
              "       [ 1.42056925],\n",
              "       [-0.27870275],\n",
              "       [-1.30314497],\n",
              "       [-0.45707187],\n",
              "       [-0.49418585],\n",
              "       [ 0.48207441],\n",
              "       [-0.25288888],\n",
              "       [-0.10722764],\n",
              "       [-2.4330126 ],\n",
              "       [-0.55108954],\n",
              "       [ 0.73962193],\n",
              "       [ 1.33632173],\n",
              "       [-1.177087  ],\n",
              "       [-0.46233501],\n",
              "       [ 0.97847408],\n",
              "       [-0.09680973],\n",
              "       [ 0.03848715],\n",
              "       [-1.5971585 ],\n",
              "       [-0.47956492],\n",
              "       [-1.79283347],\n",
              "       [-1.32710166],\n",
              "       [-2.38450083],\n",
              "       [-2.9369401 ],\n",
              "       [-2.14681113],\n",
              "       [-2.36986949],\n",
              "       [-3.06384157],\n",
              "       [-3.91575378],\n",
              "       [-3.93646339],\n",
              "       [-3.09427612],\n",
              "       [-2.37447163],\n",
              "       [-2.77881295],\n",
              "       [-2.28656128],\n",
              "       [-2.98563349],\n",
              "       [-2.3751947 ],\n",
              "       [-2.20986553],\n",
              "       [-2.625621  ],\n",
              "       [-4.28063878],\n",
              "       [-3.58264137],\n",
              "       [-2.80706372],\n",
              "       [-2.89965933],\n",
              "       [-2.32073698],\n",
              "       [-2.54983095],\n",
              "       [-1.81254128],\n",
              "       [-2.76014464],\n",
              "       [-2.7371505 ],\n",
              "       [-3.60486887],\n",
              "       [-2.889826  ],\n",
              "       [-3.39215608],\n",
              "       [-1.0481819 ],\n",
              "       [-1.60991228],\n",
              "       [-3.14313097],\n",
              "       [-2.2401569 ],\n",
              "       [-2.84767378],\n",
              "       [-2.59749706],\n",
              "       [-2.94929937],\n",
              "       [-3.53003227],\n",
              "       [-2.40611054],\n",
              "       [-2.92908473],\n",
              "       [-2.18141278],\n",
              "       [-2.38092779],\n",
              "       [-3.21161722],\n",
              "       [-3.67791872],\n",
              "       [-2.4655558 ],\n",
              "       [-3.37052415],\n",
              "       [-2.60195585],\n",
              "       [-2.67783946],\n",
              "       [-2.38701709],\n",
              "       [-3.20875816]])"
            ]
          },
          "metadata": {},
          "execution_count": 14
        }
      ],
      "source": [
        " pca_values[:,0:1]"
      ]
    },
    {
      "cell_type": "code",
      "source": [
        "cluster_df = pd.concat([pd.DataFrame(pca_values[:,0:3],columns=['pc1','pc2','pc3'])], axis = 1)\n",
        "cluster_df.head()"
      ],
      "metadata": {
        "colab": {
          "base_uri": "https://localhost:8080/",
          "height": 206
        },
        "id": "ScvSstR1XlQg",
        "outputId": "fac0d3ed-a8fb-494c-c7ed-e5b654f8dfe6"
      },
      "execution_count": 15,
      "outputs": [
        {
          "output_type": "execute_result",
          "data": {
            "text/html": [
              "\n",
              "  <div id=\"df-e73d5bb2-38d3-4db1-80e1-1eb86a141c68\">\n",
              "    <div class=\"colab-df-container\">\n",
              "      <div>\n",
              "<style scoped>\n",
              "    .dataframe tbody tr th:only-of-type {\n",
              "        vertical-align: middle;\n",
              "    }\n",
              "\n",
              "    .dataframe tbody tr th {\n",
              "        vertical-align: top;\n",
              "    }\n",
              "\n",
              "    .dataframe thead th {\n",
              "        text-align: right;\n",
              "    }\n",
              "</style>\n",
              "<table border=\"1\" class=\"dataframe\">\n",
              "  <thead>\n",
              "    <tr style=\"text-align: right;\">\n",
              "      <th></th>\n",
              "      <th>pc1</th>\n",
              "      <th>pc2</th>\n",
              "      <th>pc3</th>\n",
              "    </tr>\n",
              "  </thead>\n",
              "  <tbody>\n",
              "    <tr>\n",
              "      <th>0</th>\n",
              "      <td>3.316751</td>\n",
              "      <td>-1.443463</td>\n",
              "      <td>-0.165739</td>\n",
              "    </tr>\n",
              "    <tr>\n",
              "      <th>1</th>\n",
              "      <td>2.209465</td>\n",
              "      <td>0.333393</td>\n",
              "      <td>-2.026457</td>\n",
              "    </tr>\n",
              "    <tr>\n",
              "      <th>2</th>\n",
              "      <td>2.516740</td>\n",
              "      <td>-1.031151</td>\n",
              "      <td>0.982819</td>\n",
              "    </tr>\n",
              "    <tr>\n",
              "      <th>3</th>\n",
              "      <td>3.757066</td>\n",
              "      <td>-2.756372</td>\n",
              "      <td>-0.176192</td>\n",
              "    </tr>\n",
              "    <tr>\n",
              "      <th>4</th>\n",
              "      <td>1.008908</td>\n",
              "      <td>-0.869831</td>\n",
              "      <td>2.026688</td>\n",
              "    </tr>\n",
              "  </tbody>\n",
              "</table>\n",
              "</div>\n",
              "      <button class=\"colab-df-convert\" onclick=\"convertToInteractive('df-e73d5bb2-38d3-4db1-80e1-1eb86a141c68')\"\n",
              "              title=\"Convert this dataframe to an interactive table.\"\n",
              "              style=\"display:none;\">\n",
              "        \n",
              "  <svg xmlns=\"http://www.w3.org/2000/svg\" height=\"24px\"viewBox=\"0 0 24 24\"\n",
              "       width=\"24px\">\n",
              "    <path d=\"M0 0h24v24H0V0z\" fill=\"none\"/>\n",
              "    <path d=\"M18.56 5.44l.94 2.06.94-2.06 2.06-.94-2.06-.94-.94-2.06-.94 2.06-2.06.94zm-11 1L8.5 8.5l.94-2.06 2.06-.94-2.06-.94L8.5 2.5l-.94 2.06-2.06.94zm10 10l.94 2.06.94-2.06 2.06-.94-2.06-.94-.94-2.06-.94 2.06-2.06.94z\"/><path d=\"M17.41 7.96l-1.37-1.37c-.4-.4-.92-.59-1.43-.59-.52 0-1.04.2-1.43.59L10.3 9.45l-7.72 7.72c-.78.78-.78 2.05 0 2.83L4 21.41c.39.39.9.59 1.41.59.51 0 1.02-.2 1.41-.59l7.78-7.78 2.81-2.81c.8-.78.8-2.07 0-2.86zM5.41 20L4 18.59l7.72-7.72 1.47 1.35L5.41 20z\"/>\n",
              "  </svg>\n",
              "      </button>\n",
              "      \n",
              "  <style>\n",
              "    .colab-df-container {\n",
              "      display:flex;\n",
              "      flex-wrap:wrap;\n",
              "      gap: 12px;\n",
              "    }\n",
              "\n",
              "    .colab-df-convert {\n",
              "      background-color: #E8F0FE;\n",
              "      border: none;\n",
              "      border-radius: 50%;\n",
              "      cursor: pointer;\n",
              "      display: none;\n",
              "      fill: #1967D2;\n",
              "      height: 32px;\n",
              "      padding: 0 0 0 0;\n",
              "      width: 32px;\n",
              "    }\n",
              "\n",
              "    .colab-df-convert:hover {\n",
              "      background-color: #E2EBFA;\n",
              "      box-shadow: 0px 1px 2px rgba(60, 64, 67, 0.3), 0px 1px 3px 1px rgba(60, 64, 67, 0.15);\n",
              "      fill: #174EA6;\n",
              "    }\n",
              "\n",
              "    [theme=dark] .colab-df-convert {\n",
              "      background-color: #3B4455;\n",
              "      fill: #D2E3FC;\n",
              "    }\n",
              "\n",
              "    [theme=dark] .colab-df-convert:hover {\n",
              "      background-color: #434B5C;\n",
              "      box-shadow: 0px 1px 3px 1px rgba(0, 0, 0, 0.15);\n",
              "      filter: drop-shadow(0px 1px 2px rgba(0, 0, 0, 0.3));\n",
              "      fill: #FFFFFF;\n",
              "    }\n",
              "  </style>\n",
              "\n",
              "      <script>\n",
              "        const buttonEl =\n",
              "          document.querySelector('#df-e73d5bb2-38d3-4db1-80e1-1eb86a141c68 button.colab-df-convert');\n",
              "        buttonEl.style.display =\n",
              "          google.colab.kernel.accessAllowed ? 'block' : 'none';\n",
              "\n",
              "        async function convertToInteractive(key) {\n",
              "          const element = document.querySelector('#df-e73d5bb2-38d3-4db1-80e1-1eb86a141c68');\n",
              "          const dataTable =\n",
              "            await google.colab.kernel.invokeFunction('convertToInteractive',\n",
              "                                                     [key], {});\n",
              "          if (!dataTable) return;\n",
              "\n",
              "          const docLinkHtml = 'Like what you see? Visit the ' +\n",
              "            '<a target=\"_blank\" href=https://colab.research.google.com/notebooks/data_table.ipynb>data table notebook</a>'\n",
              "            + ' to learn more about interactive tables.';\n",
              "          element.innerHTML = '';\n",
              "          dataTable['output_type'] = 'display_data';\n",
              "          await google.colab.output.renderOutput(dataTable, element);\n",
              "          const docLink = document.createElement('div');\n",
              "          docLink.innerHTML = docLinkHtml;\n",
              "          element.appendChild(docLink);\n",
              "        }\n",
              "      </script>\n",
              "    </div>\n",
              "  </div>\n",
              "  "
            ],
            "text/plain": [
              "        pc1       pc2       pc3\n",
              "0  3.316751 -1.443463 -0.165739\n",
              "1  2.209465  0.333393 -2.026457\n",
              "2  2.516740 -1.031151  0.982819\n",
              "3  3.757066 -2.756372 -0.176192\n",
              "4  1.008908 -0.869831  2.026688"
            ]
          },
          "metadata": {},
          "execution_count": 15
        }
      ]
    },
    {
      "cell_type": "code",
      "source": [
        "# Applying hieracical clustering in PC data "
      ],
      "metadata": {
        "id": "062gm4nyXlVz"
      },
      "execution_count": 16,
      "outputs": []
    },
    {
      "cell_type": "code",
      "source": [
        "dendrogram = sch.dendrogram(sch.linkage(cluster_df, method='complete'))"
      ],
      "metadata": {
        "colab": {
          "base_uri": "https://localhost:8080/",
          "height": 265
        },
        "id": "PseIxQseChwx",
        "outputId": "91037079-2720-4647-b4a4-d3a202f414eb"
      },
      "execution_count": 17,
      "outputs": [
        {
          "output_type": "display_data",
          "data": {
            "image/png": "[encoded data removed]",
            "text/plain": [
              "<Figure size 432x288 with 1 Axes>"
            ]
          },
          "metadata": {
            "needs_background": "light"
          }
        }
      ]
    },
    {
      "cell_type": "code",
      "source": [
        "#As per dendrogram we can see 5 clusters. "
      ],
      "metadata": {
        "id": "tPNJEAfUXlbp"
      },
      "execution_count": 18,
      "outputs": []
    },
    {
      "cell_type": "code",
      "source": [
        "# Applying K means clustering in PC data "
      ],
      "metadata": {
        "id": "3qVoX678XleZ"
      },
      "execution_count": 19,
      "outputs": []
    },
    {
      "cell_type": "code",
      "execution_count": 20,
      "metadata": {
        "id": "3zI-VFvAV2GI"
      },
      "outputs": [],
      "source": [
        "# Normalization function \n",
        "from sklearn.preprocessing import StandardScaler\n",
        "scaler = StandardScaler()\n",
        "scaled_df = scaler.fit_transform(cluster_df)"
      ]
    },
    {
      "cell_type": "code",
      "execution_count": 21,
      "metadata": {
        "colab": {
          "base_uri": "https://localhost:8080/",
          "height": 295
        },
        "id": "aaEEdnLUV2GJ",
        "outputId": "8993f9ab-850f-48b3-b6f1-9c114f704caa"
      },
      "outputs": [
        {
          "output_type": "display_data",
          "data": {
            "image/png": "[encoded data removed]",
            "text/plain": [
              "<Figure size 432x288 with 1 Axes>"
            ]
          },
          "metadata": {
            "needs_background": "light"
          }
        }
      ],
      "source": [
        "wcss = []\n",
        "for i in range(1, 11):\n",
        "    kmeans = KMeans(n_clusters=i,random_state=0)\n",
        "    kmeans.fit(scaled_df)\n",
        "    wcss.append(kmeans.inertia_)\n",
        "    \n",
        "plt.plot(range(1, 11), wcss)\n",
        "plt.title('Elbow Method')\n",
        "plt.xlabel('Number of clusters')\n",
        "plt.ylabel('WCSS')\n",
        "plt.show()"
      ]
    },
    {
      "cell_type": "code",
      "source": [
        "# As per elbow method we can see 5 is the optimun no. of cluster."
      ],
      "metadata": {
        "id": "mVtzZ-j6egmc"
      },
      "execution_count": 22,
      "outputs": []
    },
    {
      "cell_type": "code",
      "execution_count": 23,
      "metadata": {
        "colab": {
          "base_uri": "https://localhost:8080/"
        },
        "id": "dG4fpxJyV2GL",
        "outputId": "56c347d5-b765-4fb2-d701-be972d40be50"
      },
      "outputs": [
        {
          "output_type": "execute_result",
          "data": {
            "text/plain": [
              "KMeans(n_clusters=5, random_state=0)"
            ]
          },
          "metadata": {},
          "execution_count": 23
        }
      ],
      "source": [
        "#Build Cluster algorithm\n",
        "from sklearn.cluster import KMeans\n",
        "clusters_new = KMeans(5, random_state=0)\n",
        "clusters_new.fit(scaled_df)"
      ]
    },
    {
      "cell_type": "code",
      "execution_count": 24,
      "metadata": {
        "colab": {
          "base_uri": "https://localhost:8080/"
        },
        "id": "sUFrqP6tV2GM",
        "outputId": "878a2e58-e3d5-489e-9139-c6e1dda91b17"
      },
      "outputs": [
        {
          "output_type": "execute_result",
          "data": {
            "text/plain": [
              "array([0, 3, 0, 0, 4, 0, 0, 0, 0, 0, 0, 0, 0, 0, 0, 0, 0, 0, 0, 0, 0, 0,\n",
              "       0, 0, 1, 4, 0, 3, 0, 0, 0, 0, 0, 0, 0, 0, 0, 0, 3, 0, 0, 0, 0, 0,\n",
              "       0, 0, 0, 0, 0, 0, 0, 0, 0, 0, 0, 0, 0, 0, 0, 3, 3, 3, 3, 1, 1, 1,\n",
              "       3, 3, 3, 3, 3, 1, 1, 4, 1, 3, 3, 1, 3, 1, 3, 3, 1, 2, 1, 3, 1, 1,\n",
              "       1, 1, 1, 1, 1, 1, 1, 0, 1, 3, 3, 1, 3, 3, 1, 3, 3, 1, 3, 1, 3, 1,\n",
              "       1, 1, 1, 1, 1, 1, 3, 1, 3, 3, 1, 4, 4, 1, 1, 1, 1, 4, 1, 1, 2, 2,\n",
              "       2, 2, 2, 2, 2, 2, 2, 2, 2, 2, 2, 2, 2, 2, 2, 2, 2, 2, 2, 2, 2, 2,\n",
              "       2, 2, 2, 2, 2, 2, 2, 2, 2, 2, 2, 2, 2, 2, 2, 2, 2, 2, 2, 2, 2, 2,\n",
              "       2, 2], dtype=int32)"
            ]
          },
          "metadata": {},
          "execution_count": 24
        }
      ],
      "source": [
        "clusters_new.labels_"
      ]
    },
    {
      "cell_type": "code",
      "execution_count": 25,
      "metadata": {
        "id": "hF1Lg4E0V2GN"
      },
      "outputs": [],
      "source": [
        "#Assign clusters to the data set\n",
        "df['Kmean_clusters_id'] = clusters_new.labels_"
      ]
    },
    {
      "cell_type": "code",
      "execution_count": 26,
      "metadata": {
        "colab": {
          "base_uri": "https://localhost:8080/"
        },
        "id": "uTLP0eSHV2GO",
        "outputId": "8ed3f8c7-aa14-434d-c3ed-ecf4c4db241f"
      },
      "outputs": [
        {
          "output_type": "execute_result",
          "data": {
            "text/plain": [
              "array([[ 1.09711081, -0.6676811 , -0.16205676],\n",
              "       [-0.03427249,  1.04283582,  0.6846884 ],\n",
              "       [-1.26489346, -0.76838677, -0.14739409],\n",
              "       [ 0.09196291,  1.11304457, -0.99401614],\n",
              "       [ 0.23996182, -0.04766575,  2.90205128]])"
            ]
          },
          "metadata": {},
          "execution_count": 26
        }
      ],
      "source": [
        "#these are standardized values.\n",
        "clusters_new.cluster_centers_"
      ]
    },
    {
      "cell_type": "code",
      "source": [
        "df.head()"
      ],
      "metadata": {
        "colab": {
          "base_uri": "https://localhost:8080/",
          "height": 270
        },
        "id": "NwagTgf8L7Nx",
        "outputId": "32300ce2-260b-4bd0-c863-18f68b42efb3"
      },
      "execution_count": 27,
      "outputs": [
        {
          "output_type": "execute_result",
          "data": {
            "text/html": [
              "\n",
              "  <div id=\"df-49844a1f-8153-492d-8bf9-02defa02e0d3\">\n",
              "    <div class=\"colab-df-container\">\n",
              "      <div>\n",
              "<style scoped>\n",
              "    .dataframe tbody tr th:only-of-type {\n",
              "        vertical-align: middle;\n",
              "    }\n",
              "\n",
              "    .dataframe tbody tr th {\n",
              "        vertical-align: top;\n",
              "    }\n",
              "\n",
              "    .dataframe thead th {\n",
              "        text-align: right;\n",
              "    }\n",
              "</style>\n",
              "<table border=\"1\" class=\"dataframe\">\n",
              "  <thead>\n",
              "    <tr style=\"text-align: right;\">\n",
              "      <th></th>\n",
              "      <th>Type</th>\n",
              "      <th>Alcohol</th>\n",
              "      <th>Malic</th>\n",
              "      <th>Ash</th>\n",
              "      <th>Alcalinity</th>\n",
              "      <th>Magnesium</th>\n",
              "      <th>Phenols</th>\n",
              "      <th>Flavanoids</th>\n",
              "      <th>Nonflavanoids</th>\n",
              "      <th>Proanthocyanins</th>\n",
              "      <th>Color</th>\n",
              "      <th>Hue</th>\n",
              "      <th>Dilution</th>\n",
              "      <th>Proline</th>\n",
              "      <th>Kmean_clusters_id</th>\n",
              "    </tr>\n",
              "  </thead>\n",
              "  <tbody>\n",
              "    <tr>\n",
              "      <th>0</th>\n",
              "      <td>1</td>\n",
              "      <td>14.23</td>\n",
              "      <td>1.71</td>\n",
              "      <td>2.43</td>\n",
              "      <td>15.6</td>\n",
              "      <td>127</td>\n",
              "      <td>2.80</td>\n",
              "      <td>3.06</td>\n",
              "      <td>0.28</td>\n",
              "      <td>2.29</td>\n",
              "      <td>5.64</td>\n",
              "      <td>1.04</td>\n",
              "      <td>3.92</td>\n",
              "      <td>1065</td>\n",
              "      <td>0</td>\n",
              "    </tr>\n",
              "    <tr>\n",
              "      <th>1</th>\n",
              "      <td>1</td>\n",
              "      <td>13.20</td>\n",
              "      <td>1.78</td>\n",
              "      <td>2.14</td>\n",
              "      <td>11.2</td>\n",
              "      <td>100</td>\n",
              "      <td>2.65</td>\n",
              "      <td>2.76</td>\n",
              "      <td>0.26</td>\n",
              "      <td>1.28</td>\n",
              "      <td>4.38</td>\n",
              "      <td>1.05</td>\n",
              "      <td>3.40</td>\n",
              "      <td>1050</td>\n",
              "      <td>3</td>\n",
              "    </tr>\n",
              "    <tr>\n",
              "      <th>2</th>\n",
              "      <td>1</td>\n",
              "      <td>13.16</td>\n",
              "      <td>2.36</td>\n",
              "      <td>2.67</td>\n",
              "      <td>18.6</td>\n",
              "      <td>101</td>\n",
              "      <td>2.80</td>\n",
              "      <td>3.24</td>\n",
              "      <td>0.30</td>\n",
              "      <td>2.81</td>\n",
              "      <td>5.68</td>\n",
              "      <td>1.03</td>\n",
              "      <td>3.17</td>\n",
              "      <td>1185</td>\n",
              "      <td>0</td>\n",
              "    </tr>\n",
              "    <tr>\n",
              "      <th>3</th>\n",
              "      <td>1</td>\n",
              "      <td>14.37</td>\n",
              "      <td>1.95</td>\n",
              "      <td>2.50</td>\n",
              "      <td>16.8</td>\n",
              "      <td>113</td>\n",
              "      <td>3.85</td>\n",
              "      <td>3.49</td>\n",
              "      <td>0.24</td>\n",
              "      <td>2.18</td>\n",
              "      <td>7.80</td>\n",
              "      <td>0.86</td>\n",
              "      <td>3.45</td>\n",
              "      <td>1480</td>\n",
              "      <td>0</td>\n",
              "    </tr>\n",
              "    <tr>\n",
              "      <th>4</th>\n",
              "      <td>1</td>\n",
              "      <td>13.24</td>\n",
              "      <td>2.59</td>\n",
              "      <td>2.87</td>\n",
              "      <td>21.0</td>\n",
              "      <td>118</td>\n",
              "      <td>2.80</td>\n",
              "      <td>2.69</td>\n",
              "      <td>0.39</td>\n",
              "      <td>1.82</td>\n",
              "      <td>4.32</td>\n",
              "      <td>1.04</td>\n",
              "      <td>2.93</td>\n",
              "      <td>735</td>\n",
              "      <td>4</td>\n",
              "    </tr>\n",
              "  </tbody>\n",
              "</table>\n",
              "</div>\n",
              "      <button class=\"colab-df-convert\" onclick=\"convertToInteractive('df-49844a1f-8153-492d-8bf9-02defa02e0d3')\"\n",
              "              title=\"Convert this dataframe to an interactive table.\"\n",
              "              style=\"display:none;\">\n",
              "        \n",
              "  <svg xmlns=\"http://www.w3.org/2000/svg\" height=\"24px\"viewBox=\"0 0 24 24\"\n",
              "       width=\"24px\">\n",
              "    <path d=\"M0 0h24v24H0V0z\" fill=\"none\"/>\n",
              "    <path d=\"M18.56 5.44l.94 2.06.94-2.06 2.06-.94-2.06-.94-.94-2.06-.94 2.06-2.06.94zm-11 1L8.5 8.5l.94-2.06 2.06-.94-2.06-.94L8.5 2.5l-.94 2.06-2.06.94zm10 10l.94 2.06.94-2.06 2.06-.94-2.06-.94-.94-2.06-.94 2.06-2.06.94z\"/><path d=\"M17.41 7.96l-1.37-1.37c-.4-.4-.92-.59-1.43-.59-.52 0-1.04.2-1.43.59L10.3 9.45l-7.72 7.72c-.78.78-.78 2.05 0 2.83L4 21.41c.39.39.9.59 1.41.59.51 0 1.02-.2 1.41-.59l7.78-7.78 2.81-2.81c.8-.78.8-2.07 0-2.86zM5.41 20L4 18.59l7.72-7.72 1.47 1.35L5.41 20z\"/>\n",
              "  </svg>\n",
              "      </button>\n",
              "      \n",
              "  <style>\n",
              "    .colab-df-container {\n",
              "      display:flex;\n",
              "      flex-wrap:wrap;\n",
              "      gap: 12px;\n",
              "    }\n",
              "\n",
              "    .colab-df-convert {\n",
              "      background-color: #E8F0FE;\n",
              "      border: none;\n",
              "      border-radius: 50%;\n",
              "      cursor: pointer;\n",
              "      display: none;\n",
              "      fill: #1967D2;\n",
              "      height: 32px;\n",
              "      padding: 0 0 0 0;\n",
              "      width: 32px;\n",
              "    }\n",
              "\n",
              "    .colab-df-convert:hover {\n",
              "      background-color: #E2EBFA;\n",
              "      box-shadow: 0px 1px 2px rgba(60, 64, 67, 0.3), 0px 1px 3px 1px rgba(60, 64, 67, 0.15);\n",
              "      fill: #174EA6;\n",
              "    }\n",
              "\n",
              "    [theme=dark] .colab-df-convert {\n",
              "      background-color: #3B4455;\n",
              "      fill: #D2E3FC;\n",
              "    }\n",
              "\n",
              "    [theme=dark] .colab-df-convert:hover {\n",
              "      background-color: #434B5C;\n",
              "      box-shadow: 0px 1px 3px 1px rgba(0, 0, 0, 0.15);\n",
              "      filter: drop-shadow(0px 1px 2px rgba(0, 0, 0, 0.3));\n",
              "      fill: #FFFFFF;\n",
              "    }\n",
              "  </style>\n",
              "\n",
              "      <script>\n",
              "        const buttonEl =\n",
              "          document.querySelector('#df-49844a1f-8153-492d-8bf9-02defa02e0d3 button.colab-df-convert');\n",
              "        buttonEl.style.display =\n",
              "          google.colab.kernel.accessAllowed ? 'block' : 'none';\n",
              "\n",
              "        async function convertToInteractive(key) {\n",
              "          const element = document.querySelector('#df-49844a1f-8153-492d-8bf9-02defa02e0d3');\n",
              "          const dataTable =\n",
              "            await google.colab.kernel.invokeFunction('convertToInteractive',\n",
              "                                                     [key], {});\n",
              "          if (!dataTable) return;\n",
              "\n",
              "          const docLinkHtml = 'Like what you see? Visit the ' +\n",
              "            '<a target=\"_blank\" href=https://colab.research.google.com/notebooks/data_table.ipynb>data table notebook</a>'\n",
              "            + ' to learn more about interactive tables.';\n",
              "          element.innerHTML = '';\n",
              "          dataTable['output_type'] = 'display_data';\n",
              "          await google.colab.output.renderOutput(dataTable, element);\n",
              "          const docLink = document.createElement('div');\n",
              "          docLink.innerHTML = docLinkHtml;\n",
              "          element.appendChild(docLink);\n",
              "        }\n",
              "      </script>\n",
              "    </div>\n",
              "  </div>\n",
              "  "
            ],
            "text/plain": [
              "   Type  Alcohol  Malic   Ash  ...   Hue  Dilution  Proline  Kmean_clusters_id\n",
              "0     1    14.23   1.71  2.43  ...  1.04      3.92     1065                  0\n",
              "1     1    13.20   1.78  2.14  ...  1.05      3.40     1050                  3\n",
              "2     1    13.16   2.36  2.67  ...  1.03      3.17     1185                  0\n",
              "3     1    14.37   1.95  2.50  ...  0.86      3.45     1480                  0\n",
              "4     1    13.24   2.59  2.87  ...  1.04      2.93      735                  4\n",
              "\n",
              "[5 rows x 15 columns]"
            ]
          },
          "metadata": {},
          "execution_count": 27
        }
      ]
    },
    {
      "cell_type": "code",
      "source": [
        "df.Kmean_clusters_id.value_counts()"
      ],
      "metadata": {
        "colab": {
          "base_uri": "https://localhost:8080/"
        },
        "id": "8p_h2uO1ReIS",
        "outputId": "59e760ac-252a-4899-bcd6-7bbf84230e27"
      },
      "execution_count": 28,
      "outputs": [
        {
          "output_type": "execute_result",
          "data": {
            "text/plain": [
              "0    54\n",
              "2    49\n",
              "1    40\n",
              "3    29\n",
              "4     6\n",
              "Name: Kmean_clusters_id, dtype: int64"
            ]
          },
          "metadata": {},
          "execution_count": 28
        }
      ]
    },
    {
      "cell_type": "code",
      "source": [
        "# Conclusion - As per hieracical and k means clustering we can see that the optimum no. of cluster is 5 but as per the orginal data the identified cluster was only 3."
      ],
      "metadata": {
        "id": "DkfzhO4KXlhZ"
      },
      "execution_count": 29,
      "outputs": []
    }
  ]
}