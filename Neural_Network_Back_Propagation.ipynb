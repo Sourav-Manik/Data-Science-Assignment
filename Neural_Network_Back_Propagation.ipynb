{
  "cells": [
    {
      "cell_type": "markdown",
      "metadata": {
        "id": "view-in-github",
        "colab_type": "text"
      },
      "source": [
        "<a href=\"https://colab.research.google.com/github/Sourav-Manik/Data-Science-Assignment/blob/main/Neural_Network_Back_Propagation.ipynb\" target=\"_parent\"><img src=\"https://colab.research.google.com/assets/colab-badge.svg\" alt=\"Open In Colab\"/></a>"
      ]
    },
    {
      "cell_type": "code",
      "execution_count": 1,
      "metadata": {
        "ExecuteTime": {
          "end_time": "2021-08-20T16:04:10.650840Z",
          "start_time": "2021-08-20T16:04:10.646682Z"
        },
        "id": "yJjOOWrq3A98"
      },
      "outputs": [],
      "source": [
        "import tensorflow  as tf\n",
        "import numpy"
      ]
    },
    {
      "cell_type": "code",
      "execution_count": 2,
      "metadata": {
        "ExecuteTime": {
          "end_time": "2021-08-20T16:00:24.379904Z",
          "start_time": "2021-08-20T16:00:24.375274Z"
        },
        "id": "ca7NLPmZ3A-E"
      },
      "outputs": [],
      "source": [
        "#import tensorflow as tf"
      ]
    },
    {
      "cell_type": "code",
      "execution_count": 4,
      "metadata": {
        "id": "eysJU-Zc3A-F"
      },
      "outputs": [],
      "source": [
        "#conda install tensorflow "
      ]
    },
    {
      "cell_type": "code",
      "execution_count": 5,
      "metadata": {
        "ExecuteTime": {
          "end_time": "2021-08-20T15:59:26.255468Z",
          "start_time": "2021-08-20T15:59:18.237380Z"
        },
        "scrolled": true,
        "id": "EYNvzuHe3A-G"
      },
      "outputs": [],
      "source": [
        "#!pip install tensorflow\n",
        "#!pip install keras "
      ]
    },
    {
      "cell_type": "code",
      "execution_count": 6,
      "metadata": {
        "ExecuteTime": {
          "end_time": "2021-08-20T16:04:17.809771Z",
          "start_time": "2021-08-20T16:04:17.778758Z"
        },
        "id": "JuQo0i4h3A-H"
      },
      "outputs": [],
      "source": [
        "# fix random seed for reproducibility\n",
        "seed = 7\n",
        "numpy.random.seed(seed)\n",
        "# load pima indians dataset\n",
        "dataset = numpy.loadtxt(\"pima-indians-diabetes.csv\", delimiter=\",\")\n",
        "# split into input (X) and output (Y) variables\n",
        "X = dataset[:,0:8]\n",
        "Y = dataset[:,8]\n"
      ]
    },
    {
      "cell_type": "code",
      "execution_count": 7,
      "metadata": {
        "ExecuteTime": {
          "end_time": "2021-08-20T16:05:28.641236Z",
          "start_time": "2021-08-20T16:05:28.568090Z"
        },
        "id": "i8JqrxjR3A-I"
      },
      "outputs": [],
      "source": [
        "# create model\n",
        "model = tf.keras.models.Sequential()\n",
        "model.add(tf.keras.layers.Dense(12, input_dim=8, activation='sigmoid'))\n",
        "model.add(tf.keras.layers.Dense(9,  activation='sigmoid'))\n",
        "model.add(tf.keras.layers.Dense(1, activation='sigmoid'))"
      ]
    },
    {
      "cell_type": "code",
      "execution_count": 8,
      "metadata": {
        "ExecuteTime": {
          "end_time": "2021-08-20T16:05:29.909710Z",
          "start_time": "2021-08-20T16:05:29.896197Z"
        },
        "colab": {
          "base_uri": "https://localhost:8080/"
        },
        "id": "mDZkKr_K3A-J",
        "outputId": "65413ae6-7ff3-4ac9-aac0-57cf104356f3"
      },
      "outputs": [
        {
          "output_type": "stream",
          "name": "stdout",
          "text": [
            "Model: \"sequential\"\n",
            "_________________________________________________________________\n",
            " Layer (type)                Output Shape              Param #   \n",
            "=================================================================\n",
            " dense (Dense)               (None, 12)                108       \n",
            "                                                                 \n",
            " dense_1 (Dense)             (None, 9)                 117       \n",
            "                                                                 \n",
            " dense_2 (Dense)             (None, 1)                 10        \n",
            "                                                                 \n",
            "=================================================================\n",
            "Total params: 235\n",
            "Trainable params: 235\n",
            "Non-trainable params: 0\n",
            "_________________________________________________________________\n"
          ]
        }
      ],
      "source": [
        "model.summary()"
      ]
    },
    {
      "cell_type": "code",
      "execution_count": 9,
      "metadata": {
        "ExecuteTime": {
          "end_time": "2021-08-20T16:05:35.807577Z",
          "start_time": "2021-08-20T16:05:35.791826Z"
        },
        "id": "TIlNK45D3A-M"
      },
      "outputs": [],
      "source": [
        "# Compile model\n",
        "model.compile(loss='binary_crossentropy', optimizer='adam', metrics=['accuracy'])"
      ]
    },
    {
      "cell_type": "code",
      "execution_count": 10,
      "metadata": {
        "ExecuteTime": {
          "end_time": "2021-08-20T16:05:39.868455Z",
          "start_time": "2021-08-20T16:05:36.391332Z"
        },
        "scrolled": true,
        "colab": {
          "base_uri": "https://localhost:8080/"
        },
        "id": "6sFVzX3w3A-O",
        "outputId": "5a18bd86-3cbe-479f-8316-b8a877c47b5a"
      },
      "outputs": [
        {
          "output_type": "stream",
          "name": "stdout",
          "text": [
            "Epoch 1/50\n",
            "7/7 [==============================] - 1s 28ms/step - loss: 1.3282 - accuracy: 0.3469 - val_loss: 1.2831 - val_accuracy: 0.3571\n",
            "Epoch 2/50\n",
            "7/7 [==============================] - 0s 5ms/step - loss: 1.2857 - accuracy: 0.3469 - val_loss: 1.2435 - val_accuracy: 0.3571\n",
            "Epoch 3/50\n",
            "7/7 [==============================] - 0s 5ms/step - loss: 1.2447 - accuracy: 0.3469 - val_loss: 1.2051 - val_accuracy: 0.3571\n",
            "Epoch 4/50\n",
            "7/7 [==============================] - 0s 5ms/step - loss: 1.2063 - accuracy: 0.3469 - val_loss: 1.1679 - val_accuracy: 0.3571\n",
            "Epoch 5/50\n",
            "7/7 [==============================] - 0s 5ms/step - loss: 1.1687 - accuracy: 0.3469 - val_loss: 1.1318 - val_accuracy: 0.3571\n",
            "Epoch 6/50\n",
            "7/7 [==============================] - 0s 4ms/step - loss: 1.1326 - accuracy: 0.3469 - val_loss: 1.0982 - val_accuracy: 0.3571\n",
            "Epoch 7/50\n",
            "7/7 [==============================] - 0s 4ms/step - loss: 1.0988 - accuracy: 0.3469 - val_loss: 1.0661 - val_accuracy: 0.3571\n",
            "Epoch 8/50\n",
            "7/7 [==============================] - 0s 5ms/step - loss: 1.0663 - accuracy: 0.3469 - val_loss: 1.0361 - val_accuracy: 0.3571\n",
            "Epoch 9/50\n",
            "7/7 [==============================] - 0s 5ms/step - loss: 1.0350 - accuracy: 0.3469 - val_loss: 1.0075 - val_accuracy: 0.3571\n",
            "Epoch 10/50\n",
            "7/7 [==============================] - 0s 5ms/step - loss: 1.0058 - accuracy: 0.3469 - val_loss: 0.9799 - val_accuracy: 0.3571\n",
            "Epoch 11/50\n",
            "7/7 [==============================] - 0s 6ms/step - loss: 0.9770 - accuracy: 0.3469 - val_loss: 0.9530 - val_accuracy: 0.3571\n",
            "Epoch 12/50\n",
            "7/7 [==============================] - 0s 5ms/step - loss: 0.9494 - accuracy: 0.3469 - val_loss: 0.9273 - val_accuracy: 0.3571\n",
            "Epoch 13/50\n",
            "7/7 [==============================] - 0s 5ms/step - loss: 0.9245 - accuracy: 0.3469 - val_loss: 0.9039 - val_accuracy: 0.3571\n",
            "Epoch 14/50\n",
            "7/7 [==============================] - 0s 5ms/step - loss: 0.9007 - accuracy: 0.3469 - val_loss: 0.8834 - val_accuracy: 0.3571\n",
            "Epoch 15/50\n",
            "7/7 [==============================] - 0s 5ms/step - loss: 0.8789 - accuracy: 0.3469 - val_loss: 0.8634 - val_accuracy: 0.3571\n",
            "Epoch 16/50\n",
            "7/7 [==============================] - 0s 5ms/step - loss: 0.8593 - accuracy: 0.3469 - val_loss: 0.8448 - val_accuracy: 0.3571\n",
            "Epoch 17/50\n",
            "7/7 [==============================] - 0s 5ms/step - loss: 0.8403 - accuracy: 0.3469 - val_loss: 0.8273 - val_accuracy: 0.3571\n",
            "Epoch 18/50\n",
            "7/7 [==============================] - 0s 5ms/step - loss: 0.8232 - accuracy: 0.3469 - val_loss: 0.8101 - val_accuracy: 0.3571\n",
            "Epoch 19/50\n",
            "7/7 [==============================] - 0s 5ms/step - loss: 0.8057 - accuracy: 0.3469 - val_loss: 0.7944 - val_accuracy: 0.3571\n",
            "Epoch 20/50\n",
            "7/7 [==============================] - 0s 5ms/step - loss: 0.7905 - accuracy: 0.3469 - val_loss: 0.7805 - val_accuracy: 0.3571\n",
            "Epoch 21/50\n",
            "7/7 [==============================] - 0s 4ms/step - loss: 0.7759 - accuracy: 0.3469 - val_loss: 0.7681 - val_accuracy: 0.3571\n",
            "Epoch 22/50\n",
            "7/7 [==============================] - 0s 5ms/step - loss: 0.7633 - accuracy: 0.3469 - val_loss: 0.7571 - val_accuracy: 0.3571\n",
            "Epoch 23/50\n",
            "7/7 [==============================] - 0s 5ms/step - loss: 0.7517 - accuracy: 0.3469 - val_loss: 0.7472 - val_accuracy: 0.3571\n",
            "Epoch 24/50\n",
            "7/7 [==============================] - 0s 4ms/step - loss: 0.7414 - accuracy: 0.3469 - val_loss: 0.7371 - val_accuracy: 0.3571\n",
            "Epoch 25/50\n",
            "7/7 [==============================] - 0s 5ms/step - loss: 0.7323 - accuracy: 0.3469 - val_loss: 0.7287 - val_accuracy: 0.3571\n",
            "Epoch 26/50\n",
            "7/7 [==============================] - 0s 5ms/step - loss: 0.7240 - accuracy: 0.3469 - val_loss: 0.7209 - val_accuracy: 0.3571\n",
            "Epoch 27/50\n",
            "7/7 [==============================] - 0s 8ms/step - loss: 0.7163 - accuracy: 0.3469 - val_loss: 0.7138 - val_accuracy: 0.3571\n",
            "Epoch 28/50\n",
            "7/7 [==============================] - 0s 5ms/step - loss: 0.7092 - accuracy: 0.4218 - val_loss: 0.7076 - val_accuracy: 0.4416\n",
            "Epoch 29/50\n",
            "7/7 [==============================] - 0s 5ms/step - loss: 0.7029 - accuracy: 0.5147 - val_loss: 0.7021 - val_accuracy: 0.4740\n",
            "Epoch 30/50\n",
            "7/7 [==============================] - 0s 5ms/step - loss: 0.6971 - accuracy: 0.5244 - val_loss: 0.6969 - val_accuracy: 0.4740\n",
            "Epoch 31/50\n",
            "7/7 [==============================] - 0s 5ms/step - loss: 0.6914 - accuracy: 0.5293 - val_loss: 0.6922 - val_accuracy: 0.4740\n",
            "Epoch 32/50\n",
            "7/7 [==============================] - 0s 4ms/step - loss: 0.6860 - accuracy: 0.5814 - val_loss: 0.6876 - val_accuracy: 0.5260\n",
            "Epoch 33/50\n",
            "7/7 [==============================] - 0s 5ms/step - loss: 0.6815 - accuracy: 0.6042 - val_loss: 0.6836 - val_accuracy: 0.5714\n",
            "Epoch 34/50\n",
            "7/7 [==============================] - 0s 5ms/step - loss: 0.6776 - accuracy: 0.6221 - val_loss: 0.6803 - val_accuracy: 0.6104\n",
            "Epoch 35/50\n",
            "7/7 [==============================] - 0s 5ms/step - loss: 0.6740 - accuracy: 0.6368 - val_loss: 0.6773 - val_accuracy: 0.6299\n",
            "Epoch 36/50\n",
            "7/7 [==============================] - 0s 4ms/step - loss: 0.6711 - accuracy: 0.6352 - val_loss: 0.6744 - val_accuracy: 0.6299\n",
            "Epoch 37/50\n",
            "7/7 [==============================] - 0s 5ms/step - loss: 0.6683 - accuracy: 0.6368 - val_loss: 0.6723 - val_accuracy: 0.6429\n",
            "Epoch 38/50\n",
            "7/7 [==============================] - 0s 4ms/step - loss: 0.6660 - accuracy: 0.6466 - val_loss: 0.6701 - val_accuracy: 0.6429\n",
            "Epoch 39/50\n",
            "7/7 [==============================] - 0s 4ms/step - loss: 0.6638 - accuracy: 0.6433 - val_loss: 0.6681 - val_accuracy: 0.6429\n",
            "Epoch 40/50\n",
            "7/7 [==============================] - 0s 4ms/step - loss: 0.6615 - accuracy: 0.6466 - val_loss: 0.6662 - val_accuracy: 0.6429\n",
            "Epoch 41/50\n",
            "7/7 [==============================] - 0s 5ms/step - loss: 0.6594 - accuracy: 0.6466 - val_loss: 0.6645 - val_accuracy: 0.6429\n",
            "Epoch 42/50\n",
            "7/7 [==============================] - 0s 4ms/step - loss: 0.6577 - accuracy: 0.6482 - val_loss: 0.6630 - val_accuracy: 0.6429\n",
            "Epoch 43/50\n",
            "7/7 [==============================] - 0s 4ms/step - loss: 0.6560 - accuracy: 0.6498 - val_loss: 0.6616 - val_accuracy: 0.6429\n",
            "Epoch 44/50\n",
            "7/7 [==============================] - 0s 4ms/step - loss: 0.6544 - accuracy: 0.6515 - val_loss: 0.6602 - val_accuracy: 0.6429\n",
            "Epoch 45/50\n",
            "7/7 [==============================] - 0s 4ms/step - loss: 0.6529 - accuracy: 0.6515 - val_loss: 0.6587 - val_accuracy: 0.6429\n",
            "Epoch 46/50\n",
            "7/7 [==============================] - 0s 4ms/step - loss: 0.6515 - accuracy: 0.6515 - val_loss: 0.6578 - val_accuracy: 0.6429\n",
            "Epoch 47/50\n",
            "7/7 [==============================] - 0s 6ms/step - loss: 0.6504 - accuracy: 0.6531 - val_loss: 0.6568 - val_accuracy: 0.6429\n",
            "Epoch 48/50\n",
            "7/7 [==============================] - 0s 5ms/step - loss: 0.6493 - accuracy: 0.6531 - val_loss: 0.6560 - val_accuracy: 0.6429\n",
            "Epoch 49/50\n",
            "7/7 [==============================] - 0s 5ms/step - loss: 0.6481 - accuracy: 0.6531 - val_loss: 0.6554 - val_accuracy: 0.6429\n",
            "Epoch 50/50\n",
            "7/7 [==============================] - 0s 5ms/step - loss: 0.6472 - accuracy: 0.6531 - val_loss: 0.6548 - val_accuracy: 0.6429\n"
          ]
        }
      ],
      "source": [
        "# Fit the model\n",
        "history=model.fit(X, Y, validation_split=0.20, epochs=50, batch_size=100)"
      ]
    },
    {
      "cell_type": "code",
      "execution_count": 11,
      "metadata": {
        "ExecuteTime": {
          "end_time": "2021-08-20T16:05:40.650499Z",
          "start_time": "2021-08-20T16:05:40.612391Z"
        },
        "id": "_E4hQ3J33A-Q"
      },
      "outputs": [],
      "source": [
        "model.save_weights(\"mywt.kmw\")"
      ]
    },
    {
      "cell_type": "code",
      "execution_count": 12,
      "metadata": {
        "ExecuteTime": {
          "end_time": "2021-08-20T16:05:41.646376Z",
          "start_time": "2021-08-20T16:05:41.471397Z"
        },
        "colab": {
          "base_uri": "https://localhost:8080/"
        },
        "id": "1p0zy5QK3A-Q",
        "outputId": "3a4316ae-49d9-4b30-de87-77effd8e4b10"
      },
      "outputs": [
        {
          "output_type": "stream",
          "name": "stdout",
          "text": [
            "24/24 [==============================] - 0s 1ms/step - loss: 0.6482 - accuracy: 0.6510\n",
            "accuracy: 65.10%\n"
          ]
        }
      ],
      "source": [
        "# evaluate the model\n",
        "scores = model.evaluate(X, Y)\n",
        "print(\"%s: %.2f%%\" % (model.metrics_names[1], scores[1]*100))"
      ]
    },
    {
      "cell_type": "code",
      "execution_count": 13,
      "metadata": {
        "ExecuteTime": {
          "end_time": "2021-08-20T16:05:44.545331Z",
          "start_time": "2021-08-20T16:05:44.186682Z"
        },
        "id": "YdJTFuZq3A-R"
      },
      "outputs": [],
      "source": [
        "# Visualize training history\n",
        "\n",
        "# list all data in history\n",
        "model.history.history.keys()\n",
        "import matplotlib.pyplot as plt"
      ]
    },
    {
      "cell_type": "code",
      "execution_count": 14,
      "metadata": {
        "ExecuteTime": {
          "end_time": "2021-08-20T16:05:49.941184Z",
          "start_time": "2021-08-20T16:05:49.903710Z"
        },
        "colab": {
          "base_uri": "https://localhost:8080/"
        },
        "id": "ArywVZok3A-R",
        "outputId": "9119ecc8-e2d0-468d-af20-c795a8f39a9d"
      },
      "outputs": [
        {
          "output_type": "execute_result",
          "data": {
            "text/plain": [
              "dict_keys(['loss', 'accuracy', 'val_loss', 'val_accuracy'])"
            ]
          },
          "metadata": {},
          "execution_count": 14
        }
      ],
      "source": [
        "history.history.keys()"
      ]
    },
    {
      "cell_type": "code",
      "execution_count": 15,
      "metadata": {
        "ExecuteTime": {
          "end_time": "2021-08-20T16:05:51.736044Z",
          "start_time": "2021-08-20T16:05:51.385405Z"
        },
        "colab": {
          "base_uri": "https://localhost:8080/",
          "height": 573
        },
        "id": "lXZ4m2Os3A-S",
        "outputId": "2b5acdb0-93bf-4ad6-fa30-db9f7e0b0b4d"
      },
      "outputs": [
        {
          "output_type": "display_data",
          "data": {
            "image/png": "[encoded data removed]",
            "text/plain": [
              "<Figure size 432x288 with 1 Axes>"
            ]
          },
          "metadata": {
            "needs_background": "light"
          }
        },
        {
          "output_type": "display_data",
          "data": {
            "image/png": "[encoded data removed]",
            "text/plain": [
              "<Figure size 432x288 with 1 Axes>"
            ]
          },
          "metadata": {
            "needs_background": "light"
          }
        }
      ],
      "source": [
        "# summarize history for accuracy\n",
        "plt.plot(history.history['accuracy'])\n",
        "plt.plot(history.history['val_accuracy'])\n",
        "plt.title('model accuracy')\n",
        "plt.ylabel('accuracy')\n",
        "plt.xlabel('epoch')\n",
        "plt.legend(['train', 'test'], loc='upper left')\n",
        "plt.show()\n",
        "# summarize history for loss\n",
        "plt.plot(history.history['loss'])\n",
        "plt.plot(history.history['val_loss'])\n",
        "plt.title('model loss')\n",
        "plt.ylabel('loss')\n",
        "plt.xlabel('epoch')\n",
        "plt.legend(['train', 'test'], loc='upper left')\n",
        "plt.show()\n"
      ]
    },
    {
      "cell_type": "code",
      "execution_count": 15,
      "metadata": {
        "id": "1tnEmOMq3A-T"
      },
      "outputs": [],
      "source": [
        ""
      ]
    }
  ],
  "metadata": {
    "kernelspec": {
      "display_name": "Python 3",
      "language": "python",
      "name": "python3"
    },
    "language_info": {
      "codemirror_mode": {
        "name": "ipython",
        "version": 3
      },
      "file_extension": ".py",
      "mimetype": "text/x-python",
      "name": "python",
      "nbconvert_exporter": "python",
      "pygments_lexer": "ipython3",
      "version": "3.8.8"
    },
    "colab": {
      "name": "Neural Network_Back Propagation.ipynb",
      "provenance": [],
      "collapsed_sections": [],
      "include_colab_link": true
    }
  },
  "nbformat": 4,
  "nbformat_minor": 0
}